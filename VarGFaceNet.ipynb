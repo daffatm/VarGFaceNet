{
  "cells": [
    {
      "cell_type": "markdown",
      "metadata": {
        "id": "kQcnQeDEXNHy"
      },
      "source": [
        "# Variable Group Face Network (VarGFaceNet) with Adaptive Margin Loss AdaFace"
      ]
    },
    {
      "cell_type": "markdown",
      "metadata": {
        "id": "ZcqbIXSZX6x-"
      },
      "source": [
        "## Clone VarGFaceNet Repo"
      ]
    },
    {
      "cell_type": "code",
      "execution_count": null,
      "metadata": {
        "colab": {
          "base_uri": "https://localhost:8080/"
        },
        "id": "tQRA5pXxmllB",
        "outputId": "1b0fdc74-be9b-4580-9613-694b2f0e3170"
      },
      "outputs": [
        {
          "name": "stdout",
          "output_type": "stream",
          "text": [
            "Cloning into 'VarGFaceNet'...\n",
            "remote: Enumerating objects: 262, done.\u001b[K\n",
            "remote: Counting objects: 100% (262/262), done.\u001b[K\n",
            "remote: Compressing objects: 100% (189/189), done.\u001b[K\n",
            "remote: Total 262 (delta 124), reused 209 (delta 71), pack-reused 0\u001b[K\n",
            "Receiving objects: 100% (262/262), 33.01 MiB | 32.47 MiB/s, done.\n",
            "Resolving deltas: 100% (124/124), done.\n"
          ]
        }
      ],
      "source": [
        "!git clone https://github.com/daffatm/VarGFaceNet.git"
      ]
    },
    {
      "cell_type": "markdown",
      "metadata": {
        "id": "-t6JqFMsZIZz"
      },
      "source": [
        "## Connect to drive"
      ]
    },
    {
      "cell_type": "code",
      "execution_count": null,
      "metadata": {
        "colab": {
          "base_uri": "https://localhost:8080/"
        },
        "id": "VnSZztvl9V-I",
        "outputId": "25fedc03-d1e0-4506-c34f-4d17f57d1f66"
      },
      "outputs": [
        {
          "name": "stdout",
          "output_type": "stream",
          "text": [
            "Mounted at /content/drive\n"
          ]
        }
      ],
      "source": [
        "from google.colab import drive\n",
        "drive.mount('/content/drive', force_remount=1)"
      ]
    },
    {
      "cell_type": "markdown",
      "metadata": {
        "id": "8Y7QvTk1ZPkH"
      },
      "source": [
        "## Prepare all dataset"
      ]
    },
    {
      "cell_type": "code",
      "execution_count": null,
      "metadata": {
        "colab": {
          "base_uri": "https://localhost:8080/"
        },
        "id": "XY5CWbi_9cOZ",
        "outputId": "0293831c-5538-430d-d186-421327f5f8ea"
      },
      "outputs": [
        {
          "name": "stdout",
          "output_type": "stream",
          "text": [
            "Untar CASIA Done\n"
          ]
        }
      ],
      "source": [
        "!tar -xf \"/content/drive/MyDrive/Face Recognition/FR Dataset/casia/casia-112x112.tar\" -C \"/content\"\n",
        "print(\"Untar CASIA Done\")"
      ]
    },
    {
      "cell_type": "code",
      "execution_count": null,
      "metadata": {
        "colab": {
          "base_uri": "https://localhost:8080/"
        },
        "id": "t_SGbd9d91I5",
        "outputId": "c044c599-d45f-4f1d-d6c7-0e3866b35670"
      },
      "outputs": [
        {
          "name": "stdout",
          "output_type": "stream",
          "text": [
            "Unzip LFW Done\n"
          ]
        }
      ],
      "source": [
        "!unzip -qq \"/content/drive/MyDrive/Face Recognition/FR Dataset/lfw/lfw_sr.zip\" -d \"/content\"\n",
        "print(\"Unzip LFW Done\")"
      ]
    },
    {
      "cell_type": "code",
      "execution_count": null,
      "metadata": {
        "colab": {
          "base_uri": "https://localhost:8080/"
        },
        "id": "-C8NKoejHHjO",
        "outputId": "1a056913-0a1b-412c-a8b1-9629de1d7897"
      },
      "outputs": [
        {
          "name": "stdout",
          "output_type": "stream",
          "text": [
            "Unzip TinyFace Done\n"
          ]
        }
      ],
      "source": [
        "!unzip -qq \"/content/drive/MyDrive/Face Recognition/FR Dataset/tinyface/tinyface_aligned_sr.zip\" -d \"/content\"\n",
        "print(\"Unzip TinyFace Done\")"
      ]
    },
    {
      "cell_type": "markdown",
      "metadata": {
        "id": "saOAN-kSgb2g"
      },
      "source": [
        "### Create LFW Lowres"
      ]
    },
    {
      "cell_type": "code",
      "execution_count": null,
      "metadata": {
        "colab": {
          "base_uri": "https://localhost:8080/"
        },
        "id": "CCWKvnyell_r",
        "outputId": "251e413a-3da3-423c-e95c-6ef45a7f9a8e"
      },
      "outputs": [
        {
          "name": "stdout",
          "output_type": "stream",
          "text": [
            "Resizing to lfw-56x56\n",
            "Progress Done: 1/1\n",
            "Resize to lfw-56x56 Done!\n",
            "Error Data: 0\n",
            "[]\n",
            "Resizing to lfw-28x28\n",
            "Progress Done: 1/1\n",
            "Resize to lfw-28x28 Done!\n",
            "Error Data: 0\n",
            "[]\n",
            "Resizing to lfw-14x14\n",
            "Progress Done: 1/1\n",
            "Resize to lfw-14x14 Done!\n",
            "Error Data: 0\n",
            "[]\n"
          ]
        }
      ],
      "source": [
        "# Tidak perlu di run karna data pada zip sudah di resize\n",
        "# Create Lowres LFW\n",
        "!python \"/content/VarGFaceNet/preprocess_lfw.py\""
      ]
    },
    {
      "cell_type": "markdown",
      "metadata": {
        "id": "m0mHUO_Tbeja"
      },
      "source": [
        "### Upscalling with Real-ESRGAN"
      ]
    },
    {
      "cell_type": "markdown",
      "metadata": {
        "id": "QHqXTx5M5R7k"
      },
      "source": [
        "Cell ini tidak perlu di run, karna zip sudah berisi dataset yang sudah di upscaling denga Real-ESRGAN"
      ]
    },
    {
      "cell_type": "code",
      "execution_count": null,
      "metadata": {
        "id": "7cpNfQ68RDQ_"
      },
      "outputs": [],
      "source": [
        "# # Clone Real-ESRGAN and enter the Real-ESRGAN\n",
        "# !git clone https://github.com/xinntao/Real-ESRGAN.git\n",
        "# %cd Real-ESRGAN\n",
        "# # Set up the environment\n",
        "# !pip install basicsr\n",
        "# !pip install facexlib\n",
        "# !pip install gfpgan\n",
        "# !pip install -r requirements.txt\n",
        "# !python setup.py develop"
      ]
    },
    {
      "cell_type": "code",
      "execution_count": null,
      "metadata": {
        "colab": {
          "base_uri": "https://localhost:8080/"
        },
        "id": "9ZZ9Vt9wciB5",
        "outputId": "a4dc6957-4f34-4409-849f-bccbd43f59d8"
      },
      "outputs": [
        {
          "name": "stderr",
          "output_type": "stream",
          "text": [
            "/usr/local/lib/python3.10/dist-packages/torchvision/transforms/functional_tensor.py:5: UserWarning: The torchvision.transforms.functional_tensor module is deprecated in 0.15 and will be **removed in 0.17**. Please don't rely on it. You probably just need to use APIs in torchvision.transforms.functional or in torchvision.transforms.v2.functional.\n",
            "  warnings.warn(\n"
          ]
        }
      ],
      "source": [
        "# import os\n",
        "# import warnings\n",
        "# import subprocess\n",
        "# import sys\n",
        "# import cv2\n",
        "# import glob\n",
        "# import multiprocessing\n",
        "\n",
        "# from basicsr.archs.rrdbnet_arch import RRDBNet\n",
        "# from basicsr.utils.download_util import load_file_from_url\n",
        "# from realesrgan import RealESRGANer\n",
        "# from realesrgan.archs.srvgg_arch import SRVGGNetCompact\n",
        "# from gfpgan import GFPGANer\n",
        "\n",
        "# warnings.filterwarnings('ignore')"
      ]
    },
    {
      "cell_type": "code",
      "execution_count": null,
      "metadata": {
        "id": "zgVaCxL6b_hj"
      },
      "outputs": [],
      "source": [
        "# # LFW\n",
        "# if not os.path.exists(\"/content/lfw/SR/lfw-56x56\"):\n",
        "#     os.makedirs(\"/content/lfw/SR/lfw-56x56\")\n",
        "# if not os.path.exists(\"/content/lfw/SR/lfw-28x28\"):\n",
        "#     os.makedirs(\"/content/lfw/SR/lfw-28x28\")\n",
        "# if not os.path.exists(\"/content/lfw/SR/lfw-14x14\"):\n",
        "#     os.makedirs(\"/content/lfw/SR/lfw-14x14\")\n",
        "\n",
        "# # TinyFace\n",
        "# if not os.path.exists(\"/content/tinyface/SR/Gallery_Distractor\"):\n",
        "#     os.makedirs(\"/content/tinyface/SR/Gallery_Distractor\")\n",
        "# if not os.path.exists(\"/content/tinyface/SR/Gallery_Match\"):\n",
        "#     os.makedirs(\"/content/tinyface/SR/Gallery_Match\")\n",
        "# if not os.path.exists(\"/content/tinyface/SR/Probe\"):\n",
        "#     os.makedirs(\"/content/tinyface/SR/Probe\")"
      ]
    },
    {
      "cell_type": "code",
      "execution_count": null,
      "metadata": {
        "colab": {
          "base_uri": "https://localhost:8080/"
        },
        "id": "YtReflwMcotU",
        "outputId": "f2127548-2978-45d9-a649-46944e16ffd2"
      },
      "outputs": [
        {
          "name": "stdout",
          "output_type": "stream",
          "text": [
            "Downloading: \"https://github.com/xinntao/Real-ESRGAN/releases/download/v0.2.5.0/realesr-general-wdn-x4v3.pth\" to /content/Real-ESRGAN/weights/realesr-general-wdn-x4v3.pth\n",
            "\n"
          ]
        },
        {
          "name": "stderr",
          "output_type": "stream",
          "text": [
            "100%|██████████| 4.66M/4.66M [00:00<00:00, 29.2MB/s]\n"
          ]
        },
        {
          "name": "stdout",
          "output_type": "stream",
          "text": [
            "Downloading: \"https://github.com/xinntao/Real-ESRGAN/releases/download/v0.2.5.0/realesr-general-x4v3.pth\" to /content/Real-ESRGAN/weights/realesr-general-x4v3.pth\n",
            "\n"
          ]
        },
        {
          "name": "stderr",
          "output_type": "stream",
          "text": [
            "100%|██████████| 4.66M/4.66M [00:00<00:00, 30.1MB/s]\n"
          ]
        }
      ],
      "source": [
        "# model_name = \"realesr-general-x4v3\" # S size model, more light\n",
        "# model = SRVGGNetCompact(num_in_ch=3, num_out_ch=3, num_feat=64,\n",
        "#                         num_conv=32, upscale=4, act_type='prelu')\n",
        "# netscale = 4\n",
        "# file_url = [\n",
        "#     'https://github.com/xinntao/Real-ESRGAN/releases/download/v0.2.5.0/realesr-general-wdn-x4v3.pth',\n",
        "#     'https://github.com/xinntao/Real-ESRGAN/releases/download/v0.2.5.0/realesr-general-x4v3.pth'\n",
        "# ]\n",
        "\n",
        "# # Get pretrained model\n",
        "# model_path = os.path.join('weights', model_name + '.pth')\n",
        "# if not os.path.isfile(model_path):\n",
        "#     ROOT_DIR = os.path.dirname(os.path.abspath(\"Real-ESRGAN\"))\n",
        "#     for url in file_url:\n",
        "#         # model_path will be updated\n",
        "#         model_path = load_file_from_url(\n",
        "#             url=url, model_dir=os.path.join(ROOT_DIR, 'weights'), progress=True, file_name=None)\n",
        "\n",
        "# def face_enhance(outscale, upsampler):\n",
        "#     face_enhancer = GFPGANer(\n",
        "#         model_path='https://github.com/TencentARC/GFPGAN/releases/download/v1.3.0/GFPGANv1.3.pth',\n",
        "#         upscale=outscale,\n",
        "#         arch='clean',\n",
        "#         channel_multiplier=2,\n",
        "#         bg_upsampler=upsampler)\n",
        "\n",
        "#     return face_enhancer\n",
        "\n",
        "# def count_files(root_folder):\n",
        "#     count = 0\n",
        "#     for root, dirs, files in os.walk(root_folder):\n",
        "#         count += len(files)\n",
        "#     return count\n",
        "\n",
        "# def make_sr(input_folder, output_folder, outscale, dn=0.5, model_path=model_path):\n",
        "#     # use dni to control the denoise strength\n",
        "#     dni_weight = None\n",
        "#     if dn != 1:\n",
        "#         wdn_model_path = model_path.replace('realesr-general-x4v3', 'realesr-general-wdn-x4v3')\n",
        "#         model_path = [model_path, wdn_model_path]\n",
        "#         dni_weight = [dn, 1 - dn]\n",
        "\n",
        "#     # restorer\n",
        "#     upsampler = RealESRGANer(\n",
        "#         scale=netscale,\n",
        "#         model_path=model_path,\n",
        "#         dni_weight=dni_weight,\n",
        "#         model=model,\n",
        "#         tile=0,\n",
        "#         tile_pad=10,\n",
        "#         pre_pad=0,\n",
        "#         half=True,\n",
        "#         gpu_id=0)\n",
        "\n",
        "#     # Face restoration\n",
        "#     face_enhancer = face_enhance(outscale, upsampler)\n",
        "\n",
        "#     os.makedirs(output_folder, exist_ok=True)\n",
        "\n",
        "#     total_files = count_files(input_folder)\n",
        "#     total_counts = 0\n",
        "\n",
        "#     print(\"Start Process...\")\n",
        "#     for root, _, files in os.walk(input_folder):\n",
        "#         for idx, file in enumerate(files):\n",
        "#             path = os.path.join(root, file)\n",
        "#             imgname, extension = os.path.splitext(file)\n",
        "#             # print('Testing', idx, imgname)\n",
        "#             total_counts += 1\n",
        "#             sys.stdout.write(\"\\rProgress SR: {0}/{1}\".format(total_counts, total_files))\n",
        "#             sys.stdout.flush()\n",
        "\n",
        "#             img = cv2.imread(path, cv2.IMREAD_UNCHANGED)\n",
        "#             if len(img.shape) == 3 and img.shape[2] == 4:\n",
        "#                 img_mode = 'RGBA'\n",
        "#             else:\n",
        "#                 img_mode = None\n",
        "\n",
        "#             try:\n",
        "#                 _, _, out = face_enhancer.enhance(img, has_aligned=False, only_center_face=False,\n",
        "#                                                   paste_back=True)\n",
        "#             except RuntimeError as error:\n",
        "#                 print('Error', error)\n",
        "#                 print('If you encounter CUDA out of memory, try to set --tile with a smaller number.')\n",
        "#             else:\n",
        "#                 extension = extension[1:]\n",
        "#                 if img_mode == 'RGBA':  # RGBA images should be saved in png format\n",
        "#                     extension = 'png'\n",
        "#                 output_path = os.path.join(output_folder, os.path.relpath(root, input_folder),\n",
        "#                                            f'{imgname}.{extension}')\n",
        "#                 os.makedirs(os.path.dirname(output_path), exist_ok=True)\n",
        "#                 cv2.imwrite(output_path, out)\n",
        "#     print(\"SR Done!\")"
      ]
    },
    {
      "cell_type": "code",
      "execution_count": null,
      "metadata": {
        "colab": {
          "base_uri": "https://localhost:8080/"
        },
        "id": "SDvxNxn3dv_R",
        "outputId": "f67fa012-d9a9-4571-d0eb-9ed1bc421970"
      },
      "outputs": [
        {
          "name": "stdout",
          "output_type": "stream",
          "text": [
            "Downloading: \"https://github.com/xinntao/facexlib/releases/download/v0.1.0/detection_Resnet50_Final.pth\" to /content/Real-ESRGAN/gfpgan/weights/detection_Resnet50_Final.pth\n",
            "\n"
          ]
        },
        {
          "name": "stderr",
          "output_type": "stream",
          "text": [
            "100%|██████████| 104M/104M [00:00<00:00, 114MB/s] \n"
          ]
        },
        {
          "name": "stdout",
          "output_type": "stream",
          "text": [
            "Downloading: \"https://github.com/xinntao/facexlib/releases/download/v0.2.2/parsing_parsenet.pth\" to /content/Real-ESRGAN/gfpgan/weights/parsing_parsenet.pth\n",
            "\n"
          ]
        },
        {
          "name": "stderr",
          "output_type": "stream",
          "text": [
            "100%|██████████| 81.4M/81.4M [00:00<00:00, 110MB/s]\n"
          ]
        },
        {
          "name": "stdout",
          "output_type": "stream",
          "text": [
            "Downloading: \"https://github.com/TencentARC/GFPGAN/releases/download/v1.3.0/GFPGANv1.3.pth\" to /usr/local/lib/python3.10/dist-packages/gfpgan/weights/GFPGANv1.3.pth\n",
            "\n"
          ]
        },
        {
          "name": "stderr",
          "output_type": "stream",
          "text": [
            "100%|██████████| 332M/332M [00:04<00:00, 83.4MB/s]\n"
          ]
        },
        {
          "name": "stdout",
          "output_type": "stream",
          "text": [
            "Start Process...\n",
            "Progress SR: 13233/13233SR Done!\n",
            "Start Process...\n",
            "Progress SR: 13233/13233SR Done!\n",
            "Start Process...\n",
            "Progress SR: 13233/13233SR Done!\n"
          ]
        }
      ],
      "source": [
        "# # LFW\n",
        "# make_sr(\"/content/lfw/lfw-56x56\", \"/content/lfw/SR/lfw-56x56\", 1)\n",
        "# make_sr(\"/content/lfw/lfw-28x28\", \"/content/lfw/SR/lfw-28x28\", 1)\n",
        "# make_sr(\"/content/lfw/lfw-14x14\", \"/content/lfw/SR/lfw-14x14\", 1)"
      ]
    },
    {
      "cell_type": "code",
      "execution_count": null,
      "metadata": {
        "id": "ScedYxAUpBCc"
      },
      "outputs": [],
      "source": [
        "# %cd ..\n",
        "# !ls"
      ]
    },
    {
      "cell_type": "code",
      "execution_count": null,
      "metadata": {
        "id": "tJ9-joKGO4B4"
      },
      "outputs": [],
      "source": [
        "# !zip -r \"/content/lfw_sr.zip\" \"/content/lfw\""
      ]
    },
    {
      "cell_type": "code",
      "execution_count": null,
      "metadata": {
        "id": "d0iSdfimdLAi"
      },
      "outputs": [],
      "source": [
        "# !cp /content/lfw_sr.zip \"/content/drive/MyDrive/Face Recognition/FR Dataset/lfw\""
      ]
    },
    {
      "cell_type": "code",
      "execution_count": null,
      "metadata": {
        "colab": {
          "base_uri": "https://localhost:8080/"
        },
        "id": "-v86Fs9TPcBF",
        "outputId": "77602ad2-1988-4d12-9b66-80af0a3f7b9d"
      },
      "outputs": [
        {
          "name": "stdout",
          "output_type": "stream",
          "text": [
            "/content/Real-ESRGAN\n",
            "assets\t\t\t inference_realesrgan_video.py\trealesrgan.egg-info\n",
            "CODE_OF_CONDUCT.md\t inputs\t\t\t\trequirements.txt\n",
            "cog_predict.py\t\t LICENSE\t\t\tscripts\n",
            "cog.yaml\t\t MANIFEST.in\t\t\tsetup.cfg\n",
            "docs\t\t\t options\t\t\tsetup.py\n",
            "experiments\t\t README_CN.md\t\t\ttests\n",
            "gfpgan\t\t\t README.md\t\t\tVERSION\n",
            "inference_realesrgan.py  realesrgan\t\t\tweights\n"
          ]
        }
      ],
      "source": [
        "# %cd Real-ESRGAN\n",
        "# !ls"
      ]
    },
    {
      "cell_type": "code",
      "execution_count": null,
      "metadata": {
        "colab": {
          "base_uri": "https://localhost:8080/"
        },
        "id": "3GmPaa15eCpy",
        "outputId": "2e4e38ae-8d28-419c-cf99-7a41fbebb807"
      },
      "outputs": [
        {
          "name": "stdout",
          "output_type": "stream",
          "text": [
            "Downloading: \"https://github.com/xinntao/facexlib/releases/download/v0.1.0/detection_Resnet50_Final.pth\" to /content/Real-ESRGAN/gfpgan/weights/detection_Resnet50_Final.pth\n",
            "\n"
          ]
        },
        {
          "name": "stderr",
          "output_type": "stream",
          "text": [
            "100%|██████████| 104M/104M [00:00<00:00, 321MB/s] \n"
          ]
        },
        {
          "name": "stdout",
          "output_type": "stream",
          "text": [
            "Downloading: \"https://github.com/xinntao/facexlib/releases/download/v0.2.2/parsing_parsenet.pth\" to /content/Real-ESRGAN/gfpgan/weights/parsing_parsenet.pth\n",
            "\n"
          ]
        },
        {
          "name": "stderr",
          "output_type": "stream",
          "text": [
            "100%|██████████| 81.4M/81.4M [00:00<00:00, 313MB/s]\n"
          ]
        },
        {
          "name": "stdout",
          "output_type": "stream",
          "text": [
            "Downloading: \"https://github.com/TencentARC/GFPGAN/releases/download/v1.3.0/GFPGANv1.3.pth\" to /usr/local/lib/python3.10/dist-packages/gfpgan/weights/GFPGANv1.3.pth\n",
            "\n"
          ]
        },
        {
          "name": "stderr",
          "output_type": "stream",
          "text": [
            "100%|██████████| 332M/332M [00:02<00:00, 154MB/s]\n"
          ]
        },
        {
          "name": "stdout",
          "output_type": "stream",
          "text": [
            "Start Process...\n",
            "Progress SR: 153428/153428SR Done!\n",
            "Start Process...\n",
            "Progress SR: 4443/4443SR Done!\n",
            "Start Process...\n",
            "Progress SR: 3728/3728SR Done!\n"
          ]
        }
      ],
      "source": [
        "# # TinyFace\n",
        "# make_sr(\"/content/tinyface/Gallery_Distractor\", \"/content/tinyface/SR/Gallery_Distractor\", 1)\n",
        "# make_sr(\"/content/tinyface/Gallery_Match\", \"/content/tinyface/SR/Gallery_Match\", 1)\n",
        "# make_sr(\"/content/tinyface/Probe\", \"/content/tinyface/SR/Probe\", 1)"
      ]
    },
    {
      "cell_type": "code",
      "execution_count": null,
      "metadata": {
        "colab": {
          "base_uri": "https://localhost:8080/"
        },
        "id": "_RaWUCf-Pk8c",
        "outputId": "30d71348-3dce-48cf-b6a2-522190816893"
      },
      "outputs": [
        {
          "name": "stdout",
          "output_type": "stream",
          "text": [
            "/content\n",
            "drive  Real-ESRGAN  sample_data  tinyface\n"
          ]
        }
      ],
      "source": [
        "# %cd ..\n",
        "# !ls"
      ]
    },
    {
      "cell_type": "code",
      "execution_count": null,
      "metadata": {
        "id": "WO6NcFN1dVAr"
      },
      "outputs": [],
      "source": [
        "# !zip -r \"/content/tinyface_aligned_sr.zip\" \"/content/tinyface\""
      ]
    },
    {
      "cell_type": "code",
      "execution_count": null,
      "metadata": {
        "id": "nfN49qx8kLqn"
      },
      "outputs": [],
      "source": [
        "# !cp /content/tinyface_aligned_sr.zip \"/content/drive/MyDrive/Face Recognition/FR Dataset/tinyface\""
      ]
    },
    {
      "cell_type": "code",
      "execution_count": null,
      "metadata": {
        "id": "6LD0AdBYlWPR"
      },
      "outputs": [],
      "source": [
        "# from google.colab import files\n",
        "# files.download('tinyface_aligned_sr.zip')"
      ]
    },
    {
      "cell_type": "markdown",
      "metadata": {
        "id": "OTO0V_uXrtYn"
      },
      "source": [
        "## Change dir to VarGFaceNet"
      ]
    },
    {
      "cell_type": "code",
      "execution_count": null,
      "metadata": {
        "colab": {
          "base_uri": "https://localhost:8080/"
        },
        "id": "zyOP8qRcHyUi",
        "outputId": "7e2a9f4b-047e-4bb0-e06b-3bbfbd15189a"
      },
      "outputs": [
        {
          "name": "stdout",
          "output_type": "stream",
          "text": [
            "/content/VarGFaceNet\n"
          ]
        }
      ],
      "source": [
        "%cd \"/content/VarGFaceNet\""
      ]
    },
    {
      "cell_type": "markdown",
      "metadata": {
        "id": "LYUiuujxf96X"
      },
      "source": [
        "## Train model"
      ]
    },
    {
      "cell_type": "code",
      "execution_count": null,
      "metadata": {
        "colab": {
          "base_uri": "https://localhost:8080/"
        },
        "id": "q-ok9d6V_O17",
        "outputId": "f70a8f1e-7db4-4b5d-c262-d1f2ddb831ab"
      },
      "outputs": [
        {
          "name": "stdout",
          "output_type": "stream",
          "text": [
            "defining casia dataloader...\n",
            "casia with augmentation...\n",
            "defining lfw dataloader...\n",
            "defining vargfacenet model...\n",
            "----------------------------------------------------------------\n",
            "        Layer (type)               Output Shape         Param #\n",
            "================================================================\n",
            "            Conv2d-1         [-1, 40, 112, 112]           1,080\n",
            "       BatchNorm2d-2         [-1, 40, 112, 112]              80\n",
            "             PReLU-3         [-1, 40, 112, 112]              40\n",
            "            Conv2d-4           [-1, 40, 56, 56]           2,880\n",
            "       BatchNorm2d-5           [-1, 40, 56, 56]              80\n",
            "             PReLU-6           [-1, 40, 56, 56]              40\n",
            "            Conv2d-7           [-1, 40, 56, 56]           1,600\n",
            "       BatchNorm2d-8           [-1, 40, 56, 56]              80\n",
            "  Separable_Conv2d-9           [-1, 40, 56, 56]               0\n",
            "           Conv2d-10           [-1, 40, 56, 56]           2,880\n",
            "      BatchNorm2d-11           [-1, 40, 56, 56]              80\n",
            "            PReLU-12           [-1, 40, 56, 56]              40\n",
            "           Conv2d-13           [-1, 40, 56, 56]           1,600\n",
            "      BatchNorm2d-14           [-1, 40, 56, 56]              80\n",
            "            PReLU-15           [-1, 40, 56, 56]              40\n",
            " Separable_Conv2d-16           [-1, 40, 56, 56]               0\n",
            "           Conv2d-17           [-1, 40, 56, 56]           2,880\n",
            "      BatchNorm2d-18           [-1, 40, 56, 56]              80\n",
            "            PReLU-19           [-1, 40, 56, 56]              40\n",
            "           Conv2d-20           [-1, 40, 56, 56]           1,600\n",
            "      BatchNorm2d-21           [-1, 40, 56, 56]              80\n",
            " Separable_Conv2d-22           [-1, 40, 56, 56]               0\n",
            "AdaptiveAvgPool2d-23             [-1, 40, 1, 1]               0\n",
            "           Conv2d-24             [-1, 10, 1, 1]             410\n",
            "            PReLU-25             [-1, 10, 1, 1]              10\n",
            "           Conv2d-26             [-1, 40, 1, 1]             440\n",
            "          Sigmoid-27             [-1, 40, 1, 1]               0\n",
            "         Se_block-28           [-1, 40, 56, 56]               0\n",
            "            PReLU-29           [-1, 40, 56, 56]              40\n",
            "    VarGNet_Block-30           [-1, 40, 56, 56]               0\n",
            "       Head_Block-31           [-1, 40, 56, 56]               0\n",
            "           Conv2d-32           [-1, 80, 28, 28]           5,760\n",
            "      BatchNorm2d-33           [-1, 80, 28, 28]             160\n",
            "            PReLU-34           [-1, 80, 28, 28]              80\n",
            "           Conv2d-35           [-1, 80, 28, 28]           6,400\n",
            "      BatchNorm2d-36           [-1, 80, 28, 28]             160\n",
            " Separable_Conv2d-37           [-1, 80, 28, 28]               0\n",
            "           Conv2d-38           [-1, 80, 28, 28]           5,760\n",
            "      BatchNorm2d-39           [-1, 80, 28, 28]             160\n",
            "            PReLU-40           [-1, 80, 28, 28]              80\n",
            "           Conv2d-41           [-1, 80, 28, 28]           6,400\n",
            "      BatchNorm2d-42           [-1, 80, 28, 28]             160\n",
            " Separable_Conv2d-43           [-1, 80, 28, 28]               0\n",
            "           Conv2d-44           [-1, 80, 28, 28]           5,760\n",
            "      BatchNorm2d-45           [-1, 80, 28, 28]             160\n",
            "            PReLU-46           [-1, 80, 28, 28]              80\n",
            "           Conv2d-47           [-1, 80, 28, 28]           6,400\n",
            "      BatchNorm2d-48           [-1, 80, 28, 28]             160\n",
            " Separable_Conv2d-49           [-1, 80, 28, 28]               0\n",
            "            PReLU-50           [-1, 80, 28, 28]              80\n",
            "           Conv2d-51          [-1, 160, 28, 28]          11,520\n",
            "      BatchNorm2d-52          [-1, 160, 28, 28]             320\n",
            "            PReLU-53          [-1, 160, 28, 28]             160\n",
            "           Conv2d-54           [-1, 80, 28, 28]          12,800\n",
            "      BatchNorm2d-55           [-1, 80, 28, 28]             160\n",
            " Separable_Conv2d-56           [-1, 80, 28, 28]               0\n",
            "            PReLU-57           [-1, 80, 28, 28]              80\n",
            "VarGNet_Branch_Merge_Block-58           [-1, 80, 28, 28]               0\n",
            "           Conv2d-59          [-1, 160, 28, 28]          11,520\n",
            "      BatchNorm2d-60          [-1, 160, 28, 28]             320\n",
            "            PReLU-61          [-1, 160, 28, 28]             160\n",
            "           Conv2d-62           [-1, 80, 28, 28]          12,800\n",
            "      BatchNorm2d-63           [-1, 80, 28, 28]             160\n",
            "            PReLU-64           [-1, 80, 28, 28]              80\n",
            " Separable_Conv2d-65           [-1, 80, 28, 28]               0\n",
            "           Conv2d-66          [-1, 160, 28, 28]          11,520\n",
            "      BatchNorm2d-67          [-1, 160, 28, 28]             320\n",
            "            PReLU-68          [-1, 160, 28, 28]             160\n",
            "           Conv2d-69           [-1, 80, 28, 28]          12,800\n",
            "      BatchNorm2d-70           [-1, 80, 28, 28]             160\n",
            " Separable_Conv2d-71           [-1, 80, 28, 28]               0\n",
            "AdaptiveAvgPool2d-72             [-1, 80, 1, 1]               0\n",
            "           Conv2d-73             [-1, 20, 1, 1]           1,620\n",
            "            PReLU-74             [-1, 20, 1, 1]              20\n",
            "           Conv2d-75             [-1, 80, 1, 1]           1,680\n",
            "          Sigmoid-76             [-1, 80, 1, 1]               0\n",
            "         Se_block-77           [-1, 80, 28, 28]               0\n",
            "            PReLU-78           [-1, 80, 28, 28]              80\n",
            "    VarGNet_Block-79           [-1, 80, 28, 28]               0\n",
            "           Conv2d-80          [-1, 160, 28, 28]          11,520\n",
            "      BatchNorm2d-81          [-1, 160, 28, 28]             320\n",
            "            PReLU-82          [-1, 160, 28, 28]             160\n",
            "           Conv2d-83           [-1, 80, 28, 28]          12,800\n",
            "      BatchNorm2d-84           [-1, 80, 28, 28]             160\n",
            "            PReLU-85           [-1, 80, 28, 28]              80\n",
            " Separable_Conv2d-86           [-1, 80, 28, 28]               0\n",
            "           Conv2d-87          [-1, 160, 28, 28]          11,520\n",
            "      BatchNorm2d-88          [-1, 160, 28, 28]             320\n",
            "            PReLU-89          [-1, 160, 28, 28]             160\n",
            "           Conv2d-90           [-1, 80, 28, 28]          12,800\n",
            "      BatchNorm2d-91           [-1, 80, 28, 28]             160\n",
            " Separable_Conv2d-92           [-1, 80, 28, 28]               0\n",
            "AdaptiveAvgPool2d-93             [-1, 80, 1, 1]               0\n",
            "           Conv2d-94             [-1, 20, 1, 1]           1,620\n",
            "            PReLU-95             [-1, 20, 1, 1]              20\n",
            "           Conv2d-96             [-1, 80, 1, 1]           1,680\n",
            "          Sigmoid-97             [-1, 80, 1, 1]               0\n",
            "         Se_block-98           [-1, 80, 28, 28]               0\n",
            "            PReLU-99           [-1, 80, 28, 28]              80\n",
            "   VarGNet_Block-100           [-1, 80, 28, 28]               0\n",
            "VarGNet_Conv_Block-101           [-1, 80, 28, 28]               0\n",
            "          Conv2d-102          [-1, 160, 14, 14]          11,520\n",
            "     BatchNorm2d-103          [-1, 160, 14, 14]             320\n",
            "           PReLU-104          [-1, 160, 14, 14]             160\n",
            "          Conv2d-105          [-1, 160, 14, 14]          25,600\n",
            "     BatchNorm2d-106          [-1, 160, 14, 14]             320\n",
            "Separable_Conv2d-107          [-1, 160, 14, 14]               0\n",
            "          Conv2d-108          [-1, 160, 14, 14]          11,520\n",
            "     BatchNorm2d-109          [-1, 160, 14, 14]             320\n",
            "           PReLU-110          [-1, 160, 14, 14]             160\n",
            "          Conv2d-111          [-1, 160, 14, 14]          25,600\n",
            "     BatchNorm2d-112          [-1, 160, 14, 14]             320\n",
            "Separable_Conv2d-113          [-1, 160, 14, 14]               0\n",
            "          Conv2d-114          [-1, 160, 14, 14]          11,520\n",
            "     BatchNorm2d-115          [-1, 160, 14, 14]             320\n",
            "           PReLU-116          [-1, 160, 14, 14]             160\n",
            "          Conv2d-117          [-1, 160, 14, 14]          25,600\n",
            "     BatchNorm2d-118          [-1, 160, 14, 14]             320\n",
            "Separable_Conv2d-119          [-1, 160, 14, 14]               0\n",
            "           PReLU-120          [-1, 160, 14, 14]             160\n",
            "          Conv2d-121          [-1, 320, 14, 14]          23,040\n",
            "     BatchNorm2d-122          [-1, 320, 14, 14]             640\n",
            "           PReLU-123          [-1, 320, 14, 14]             320\n",
            "          Conv2d-124          [-1, 160, 14, 14]          51,200\n",
            "     BatchNorm2d-125          [-1, 160, 14, 14]             320\n",
            "Separable_Conv2d-126          [-1, 160, 14, 14]               0\n",
            "           PReLU-127          [-1, 160, 14, 14]             160\n",
            "VarGNet_Branch_Merge_Block-128          [-1, 160, 14, 14]               0\n",
            "          Conv2d-129          [-1, 320, 14, 14]          23,040\n",
            "     BatchNorm2d-130          [-1, 320, 14, 14]             640\n",
            "           PReLU-131          [-1, 320, 14, 14]             320\n",
            "          Conv2d-132          [-1, 160, 14, 14]          51,200\n",
            "     BatchNorm2d-133          [-1, 160, 14, 14]             320\n",
            "           PReLU-134          [-1, 160, 14, 14]             160\n",
            "Separable_Conv2d-135          [-1, 160, 14, 14]               0\n",
            "          Conv2d-136          [-1, 320, 14, 14]          23,040\n",
            "     BatchNorm2d-137          [-1, 320, 14, 14]             640\n",
            "           PReLU-138          [-1, 320, 14, 14]             320\n",
            "          Conv2d-139          [-1, 160, 14, 14]          51,200\n",
            "     BatchNorm2d-140          [-1, 160, 14, 14]             320\n",
            "Separable_Conv2d-141          [-1, 160, 14, 14]               0\n",
            "AdaptiveAvgPool2d-142            [-1, 160, 1, 1]               0\n",
            "          Conv2d-143             [-1, 40, 1, 1]           6,440\n",
            "           PReLU-144             [-1, 40, 1, 1]              40\n",
            "          Conv2d-145            [-1, 160, 1, 1]           6,560\n",
            "         Sigmoid-146            [-1, 160, 1, 1]               0\n",
            "        Se_block-147          [-1, 160, 14, 14]               0\n",
            "           PReLU-148          [-1, 160, 14, 14]             160\n",
            "   VarGNet_Block-149          [-1, 160, 14, 14]               0\n",
            "          Conv2d-150          [-1, 320, 14, 14]          23,040\n",
            "     BatchNorm2d-151          [-1, 320, 14, 14]             640\n",
            "           PReLU-152          [-1, 320, 14, 14]             320\n",
            "          Conv2d-153          [-1, 160, 14, 14]          51,200\n",
            "     BatchNorm2d-154          [-1, 160, 14, 14]             320\n",
            "           PReLU-155          [-1, 160, 14, 14]             160\n",
            "Separable_Conv2d-156          [-1, 160, 14, 14]               0\n",
            "          Conv2d-157          [-1, 320, 14, 14]          23,040\n",
            "     BatchNorm2d-158          [-1, 320, 14, 14]             640\n",
            "           PReLU-159          [-1, 320, 14, 14]             320\n",
            "          Conv2d-160          [-1, 160, 14, 14]          51,200\n",
            "     BatchNorm2d-161          [-1, 160, 14, 14]             320\n",
            "Separable_Conv2d-162          [-1, 160, 14, 14]               0\n",
            "AdaptiveAvgPool2d-163            [-1, 160, 1, 1]               0\n",
            "          Conv2d-164             [-1, 40, 1, 1]           6,440\n",
            "           PReLU-165             [-1, 40, 1, 1]              40\n",
            "          Conv2d-166            [-1, 160, 1, 1]           6,560\n",
            "         Sigmoid-167            [-1, 160, 1, 1]               0\n",
            "        Se_block-168          [-1, 160, 14, 14]               0\n",
            "           PReLU-169          [-1, 160, 14, 14]             160\n",
            "   VarGNet_Block-170          [-1, 160, 14, 14]               0\n",
            "          Conv2d-171          [-1, 320, 14, 14]          23,040\n",
            "     BatchNorm2d-172          [-1, 320, 14, 14]             640\n",
            "           PReLU-173          [-1, 320, 14, 14]             320\n",
            "          Conv2d-174          [-1, 160, 14, 14]          51,200\n",
            "     BatchNorm2d-175          [-1, 160, 14, 14]             320\n",
            "           PReLU-176          [-1, 160, 14, 14]             160\n",
            "Separable_Conv2d-177          [-1, 160, 14, 14]               0\n",
            "          Conv2d-178          [-1, 320, 14, 14]          23,040\n",
            "     BatchNorm2d-179          [-1, 320, 14, 14]             640\n",
            "           PReLU-180          [-1, 320, 14, 14]             320\n",
            "          Conv2d-181          [-1, 160, 14, 14]          51,200\n",
            "     BatchNorm2d-182          [-1, 160, 14, 14]             320\n",
            "Separable_Conv2d-183          [-1, 160, 14, 14]               0\n",
            "AdaptiveAvgPool2d-184            [-1, 160, 1, 1]               0\n",
            "          Conv2d-185             [-1, 40, 1, 1]           6,440\n",
            "           PReLU-186             [-1, 40, 1, 1]              40\n",
            "          Conv2d-187            [-1, 160, 1, 1]           6,560\n",
            "         Sigmoid-188            [-1, 160, 1, 1]               0\n",
            "        Se_block-189          [-1, 160, 14, 14]               0\n",
            "           PReLU-190          [-1, 160, 14, 14]             160\n",
            "   VarGNet_Block-191          [-1, 160, 14, 14]               0\n",
            "          Conv2d-192          [-1, 320, 14, 14]          23,040\n",
            "     BatchNorm2d-193          [-1, 320, 14, 14]             640\n",
            "           PReLU-194          [-1, 320, 14, 14]             320\n",
            "          Conv2d-195          [-1, 160, 14, 14]          51,200\n",
            "     BatchNorm2d-196          [-1, 160, 14, 14]             320\n",
            "           PReLU-197          [-1, 160, 14, 14]             160\n",
            "Separable_Conv2d-198          [-1, 160, 14, 14]               0\n",
            "          Conv2d-199          [-1, 320, 14, 14]          23,040\n",
            "     BatchNorm2d-200          [-1, 320, 14, 14]             640\n",
            "           PReLU-201          [-1, 320, 14, 14]             320\n",
            "          Conv2d-202          [-1, 160, 14, 14]          51,200\n",
            "     BatchNorm2d-203          [-1, 160, 14, 14]             320\n",
            "Separable_Conv2d-204          [-1, 160, 14, 14]               0\n",
            "AdaptiveAvgPool2d-205            [-1, 160, 1, 1]               0\n",
            "          Conv2d-206             [-1, 40, 1, 1]           6,440\n",
            "           PReLU-207             [-1, 40, 1, 1]              40\n",
            "          Conv2d-208            [-1, 160, 1, 1]           6,560\n",
            "         Sigmoid-209            [-1, 160, 1, 1]               0\n",
            "        Se_block-210          [-1, 160, 14, 14]               0\n",
            "           PReLU-211          [-1, 160, 14, 14]             160\n",
            "   VarGNet_Block-212          [-1, 160, 14, 14]               0\n",
            "          Conv2d-213          [-1, 320, 14, 14]          23,040\n",
            "     BatchNorm2d-214          [-1, 320, 14, 14]             640\n",
            "           PReLU-215          [-1, 320, 14, 14]             320\n",
            "          Conv2d-216          [-1, 160, 14, 14]          51,200\n",
            "     BatchNorm2d-217          [-1, 160, 14, 14]             320\n",
            "           PReLU-218          [-1, 160, 14, 14]             160\n",
            "Separable_Conv2d-219          [-1, 160, 14, 14]               0\n",
            "          Conv2d-220          [-1, 320, 14, 14]          23,040\n",
            "     BatchNorm2d-221          [-1, 320, 14, 14]             640\n",
            "           PReLU-222          [-1, 320, 14, 14]             320\n",
            "          Conv2d-223          [-1, 160, 14, 14]          51,200\n",
            "     BatchNorm2d-224          [-1, 160, 14, 14]             320\n",
            "Separable_Conv2d-225          [-1, 160, 14, 14]               0\n",
            "AdaptiveAvgPool2d-226            [-1, 160, 1, 1]               0\n",
            "          Conv2d-227             [-1, 40, 1, 1]           6,440\n",
            "           PReLU-228             [-1, 40, 1, 1]              40\n",
            "          Conv2d-229            [-1, 160, 1, 1]           6,560\n",
            "         Sigmoid-230            [-1, 160, 1, 1]               0\n",
            "        Se_block-231          [-1, 160, 14, 14]               0\n",
            "           PReLU-232          [-1, 160, 14, 14]             160\n",
            "   VarGNet_Block-233          [-1, 160, 14, 14]               0\n",
            "          Conv2d-234          [-1, 320, 14, 14]          23,040\n",
            "     BatchNorm2d-235          [-1, 320, 14, 14]             640\n",
            "           PReLU-236          [-1, 320, 14, 14]             320\n",
            "          Conv2d-237          [-1, 160, 14, 14]          51,200\n",
            "     BatchNorm2d-238          [-1, 160, 14, 14]             320\n",
            "           PReLU-239          [-1, 160, 14, 14]             160\n",
            "Separable_Conv2d-240          [-1, 160, 14, 14]               0\n",
            "          Conv2d-241          [-1, 320, 14, 14]          23,040\n",
            "     BatchNorm2d-242          [-1, 320, 14, 14]             640\n",
            "           PReLU-243          [-1, 320, 14, 14]             320\n",
            "          Conv2d-244          [-1, 160, 14, 14]          51,200\n",
            "     BatchNorm2d-245          [-1, 160, 14, 14]             320\n",
            "Separable_Conv2d-246          [-1, 160, 14, 14]               0\n",
            "AdaptiveAvgPool2d-247            [-1, 160, 1, 1]               0\n",
            "          Conv2d-248             [-1, 40, 1, 1]           6,440\n",
            "           PReLU-249             [-1, 40, 1, 1]              40\n",
            "          Conv2d-250            [-1, 160, 1, 1]           6,560\n",
            "         Sigmoid-251            [-1, 160, 1, 1]               0\n",
            "        Se_block-252          [-1, 160, 14, 14]               0\n",
            "           PReLU-253          [-1, 160, 14, 14]             160\n",
            "   VarGNet_Block-254          [-1, 160, 14, 14]               0\n",
            "VarGNet_Conv_Block-255          [-1, 160, 14, 14]               0\n",
            "          Conv2d-256            [-1, 320, 7, 7]          23,040\n",
            "     BatchNorm2d-257            [-1, 320, 7, 7]             640\n",
            "           PReLU-258            [-1, 320, 7, 7]             320\n",
            "          Conv2d-259            [-1, 320, 7, 7]         102,400\n",
            "     BatchNorm2d-260            [-1, 320, 7, 7]             640\n",
            "Separable_Conv2d-261            [-1, 320, 7, 7]               0\n",
            "          Conv2d-262            [-1, 320, 7, 7]          23,040\n",
            "     BatchNorm2d-263            [-1, 320, 7, 7]             640\n",
            "           PReLU-264            [-1, 320, 7, 7]             320\n",
            "          Conv2d-265            [-1, 320, 7, 7]         102,400\n",
            "     BatchNorm2d-266            [-1, 320, 7, 7]             640\n",
            "Separable_Conv2d-267            [-1, 320, 7, 7]               0\n",
            "          Conv2d-268            [-1, 320, 7, 7]          23,040\n",
            "     BatchNorm2d-269            [-1, 320, 7, 7]             640\n",
            "           PReLU-270            [-1, 320, 7, 7]             320\n",
            "          Conv2d-271            [-1, 320, 7, 7]         102,400\n",
            "     BatchNorm2d-272            [-1, 320, 7, 7]             640\n",
            "Separable_Conv2d-273            [-1, 320, 7, 7]               0\n",
            "           PReLU-274            [-1, 320, 7, 7]             320\n",
            "          Conv2d-275            [-1, 640, 7, 7]          46,080\n",
            "     BatchNorm2d-276            [-1, 640, 7, 7]           1,280\n",
            "           PReLU-277            [-1, 640, 7, 7]             640\n",
            "          Conv2d-278            [-1, 320, 7, 7]         204,800\n",
            "     BatchNorm2d-279            [-1, 320, 7, 7]             640\n",
            "Separable_Conv2d-280            [-1, 320, 7, 7]               0\n",
            "           PReLU-281            [-1, 320, 7, 7]             320\n",
            "VarGNet_Branch_Merge_Block-282            [-1, 320, 7, 7]               0\n",
            "          Conv2d-283            [-1, 640, 7, 7]          46,080\n",
            "     BatchNorm2d-284            [-1, 640, 7, 7]           1,280\n",
            "           PReLU-285            [-1, 640, 7, 7]             640\n",
            "          Conv2d-286            [-1, 320, 7, 7]         204,800\n",
            "     BatchNorm2d-287            [-1, 320, 7, 7]             640\n",
            "           PReLU-288            [-1, 320, 7, 7]             320\n",
            "Separable_Conv2d-289            [-1, 320, 7, 7]               0\n",
            "          Conv2d-290            [-1, 640, 7, 7]          46,080\n",
            "     BatchNorm2d-291            [-1, 640, 7, 7]           1,280\n",
            "           PReLU-292            [-1, 640, 7, 7]             640\n",
            "          Conv2d-293            [-1, 320, 7, 7]         204,800\n",
            "     BatchNorm2d-294            [-1, 320, 7, 7]             640\n",
            "Separable_Conv2d-295            [-1, 320, 7, 7]               0\n",
            "AdaptiveAvgPool2d-296            [-1, 320, 1, 1]               0\n",
            "          Conv2d-297             [-1, 80, 1, 1]          25,680\n",
            "           PReLU-298             [-1, 80, 1, 1]              80\n",
            "          Conv2d-299            [-1, 320, 1, 1]          25,920\n",
            "         Sigmoid-300            [-1, 320, 1, 1]               0\n",
            "        Se_block-301            [-1, 320, 7, 7]               0\n",
            "           PReLU-302            [-1, 320, 7, 7]             320\n",
            "   VarGNet_Block-303            [-1, 320, 7, 7]               0\n",
            "          Conv2d-304            [-1, 640, 7, 7]          46,080\n",
            "     BatchNorm2d-305            [-1, 640, 7, 7]           1,280\n",
            "           PReLU-306            [-1, 640, 7, 7]             640\n",
            "          Conv2d-307            [-1, 320, 7, 7]         204,800\n",
            "     BatchNorm2d-308            [-1, 320, 7, 7]             640\n",
            "           PReLU-309            [-1, 320, 7, 7]             320\n",
            "Separable_Conv2d-310            [-1, 320, 7, 7]               0\n",
            "          Conv2d-311            [-1, 640, 7, 7]          46,080\n",
            "     BatchNorm2d-312            [-1, 640, 7, 7]           1,280\n",
            "           PReLU-313            [-1, 640, 7, 7]             640\n",
            "          Conv2d-314            [-1, 320, 7, 7]         204,800\n",
            "     BatchNorm2d-315            [-1, 320, 7, 7]             640\n",
            "Separable_Conv2d-316            [-1, 320, 7, 7]               0\n",
            "AdaptiveAvgPool2d-317            [-1, 320, 1, 1]               0\n",
            "          Conv2d-318             [-1, 80, 1, 1]          25,680\n",
            "           PReLU-319             [-1, 80, 1, 1]              80\n",
            "          Conv2d-320            [-1, 320, 1, 1]          25,920\n",
            "         Sigmoid-321            [-1, 320, 1, 1]               0\n",
            "        Se_block-322            [-1, 320, 7, 7]               0\n",
            "           PReLU-323            [-1, 320, 7, 7]             320\n",
            "   VarGNet_Block-324            [-1, 320, 7, 7]               0\n",
            "          Conv2d-325            [-1, 640, 7, 7]          46,080\n",
            "     BatchNorm2d-326            [-1, 640, 7, 7]           1,280\n",
            "           PReLU-327            [-1, 640, 7, 7]             640\n",
            "          Conv2d-328            [-1, 320, 7, 7]         204,800\n",
            "     BatchNorm2d-329            [-1, 320, 7, 7]             640\n",
            "           PReLU-330            [-1, 320, 7, 7]             320\n",
            "Separable_Conv2d-331            [-1, 320, 7, 7]               0\n",
            "          Conv2d-332            [-1, 640, 7, 7]          46,080\n",
            "     BatchNorm2d-333            [-1, 640, 7, 7]           1,280\n",
            "           PReLU-334            [-1, 640, 7, 7]             640\n",
            "          Conv2d-335            [-1, 320, 7, 7]         204,800\n",
            "     BatchNorm2d-336            [-1, 320, 7, 7]             640\n",
            "Separable_Conv2d-337            [-1, 320, 7, 7]               0\n",
            "AdaptiveAvgPool2d-338            [-1, 320, 1, 1]               0\n",
            "          Conv2d-339             [-1, 80, 1, 1]          25,680\n",
            "           PReLU-340             [-1, 80, 1, 1]              80\n",
            "          Conv2d-341            [-1, 320, 1, 1]          25,920\n",
            "         Sigmoid-342            [-1, 320, 1, 1]               0\n",
            "        Se_block-343            [-1, 320, 7, 7]               0\n",
            "           PReLU-344            [-1, 320, 7, 7]             320\n",
            "   VarGNet_Block-345            [-1, 320, 7, 7]               0\n",
            "VarGNet_Conv_Block-346            [-1, 320, 7, 7]               0\n",
            "          Conv2d-347           [-1, 1024, 7, 7]         327,680\n",
            "     BatchNorm2d-348           [-1, 1024, 7, 7]           2,048\n",
            "           PReLU-349           [-1, 1024, 7, 7]           1,024\n",
            "          Conv2d-350           [-1, 1024, 1, 1]         401,408\n",
            "     BatchNorm2d-351           [-1, 1024, 1, 1]           2,048\n",
            "          Conv2d-352            [-1, 512, 1, 1]         524,288\n",
            "     BatchNorm2d-353            [-1, 512, 1, 1]           1,024\n",
            "           PReLU-354            [-1, 512, 1, 1]             512\n",
            "          Linear-355                  [-1, 512]         262,144\n",
            "     BatchNorm1d-356                  [-1, 512]           1,024\n",
            " Embedding_Block-357                  [-1, 512]               0\n",
            "================================================================\n",
            "Total params: 5,197,780\n",
            "Trainable params: 5,197,780\n",
            "Non-trainable params: 0\n",
            "----------------------------------------------------------------\n",
            "Input size (MB): 0.14\n",
            "Forward/backward pass size (MB): 121.23\n",
            "Params size (MB): 19.83\n",
            "Estimated Total Size (MB): 141.20\n",
            "----------------------------------------------------------------\n",
            "\n",
            "AdaFace with the following property\n",
            "margin: 0.4\n",
            "hardness: 0.333\n",
            "scale 64.0\n",
            "t_alpha 0.01\n",
            "-------------------------------------\n",
            "/usr/local/lib/python3.10/dist-packages/torch/optim/lr_scheduler.py:139: UserWarning: Detected call of `lr_scheduler.step()` before `optimizer.step()`. In PyTorch 1.1.0 and later, you should call them in the opposite order: `optimizer.step()` before `lr_scheduler.step()`.  Failure to do this will result in PyTorch skipping the first value of the learning rate schedule. See more details at https://pytorch.org/docs/stable/optim.html#how-to-adjust-learning-rate\n",
            "  warnings.warn(\"Detected call of `lr_scheduler.step()` before `optimizer.step()`. \"\n",
            "Train Epoch: 1/26 ...\n",
            " Step: 889/890    total_loss: 35.2860 time: 5m 57s\n",
            "Saving checkpoint: 1\n",
            "Train Epoch: 2/26 ...\n",
            " Step: 889/890    total_loss: 29.5542 time: 5m 57s\n",
            "Test Epoch: 2 ...\n",
            " Step: 187/188    ave: 93.1333\n",
            "Saving checkpoint: 2\n",
            "Train Epoch: 3/26 ...\n",
            " Step: 889/890    total_loss: 21.9277 time: 5m 57s\n",
            "Saving checkpoint: 3\n",
            "Train Epoch: 4/26 ...\n",
            " Step: 889/890    total_loss: 17.9736 time: 5m 57s\n",
            "Test Epoch: 4 ...\n",
            " Step: 187/188    ave: 97.0000\n",
            "Saving checkpoint: 4\n",
            "Train Epoch: 5/26 ...\n",
            " Step: 889/890    total_loss: 15.8934 time: 5m 57s\n",
            "Saving checkpoint: 5\n",
            "Train Epoch: 6/26 ...\n",
            " Step: 889/890    total_loss: 14.5730 time: 5m 57s\n",
            "Test Epoch: 6 ...\n",
            " Step: 187/188    ave: 98.0833\n",
            "Saving checkpoint: 6\n",
            "Train Epoch: 7/26 ...\n",
            " Step: 889/890    total_loss: 13.6567 time: 5m 57s\n",
            "Saving checkpoint: 7\n",
            "Train Epoch: 8/26 ...\n",
            " Step: 889/890    total_loss: 12.9597 time: 5m 57s\n",
            "Test Epoch: 8 ...\n",
            " Step: 187/188    ave: 97.8167\n",
            "Saving checkpoint: 8\n",
            "Train Epoch: 9/26 ...\n",
            " Step: 889/890    total_loss: 12.4432 time: 5m 57s\n",
            "Saving checkpoint: 9\n",
            "Train Epoch: 10/26 ...\n",
            " Step: 889/890    total_loss: 8.5880 time: 5m 57s\n",
            "Test Epoch: 10 ...\n",
            " Step: 187/188    ave: 98.9000\n",
            "Saving checkpoint: 10\n",
            "Train Epoch: 11/26 ...\n",
            " Step: 889/890    total_loss: 7.3213 time: 5m 57s\n",
            "Saving checkpoint: 11\n",
            "Train Epoch: 12/26 ...\n",
            " Step: 889/890    total_loss: 6.7465 time: 5m 57s\n",
            "Test Epoch: 12 ...\n",
            " Step: 187/188    ave: 99.0167\n",
            "Saving checkpoint: 12\n",
            "Train Epoch: 13/26 ...\n",
            " Step: 889/890    total_loss: 6.3698 time: 5m 57s\n",
            "Saving checkpoint: 13\n",
            "Train Epoch: 14/26 ...\n",
            " Step: 889/890    total_loss: 6.1003 time: 5m 57s\n",
            "Test Epoch: 14 ...\n",
            " Step: 187/188    ave: 99.1000\n",
            "Saving checkpoint: 14\n",
            "Train Epoch: 15/26 ...\n",
            " Step: 889/890    total_loss: 5.9006 time: 5m 57s\n",
            "Saving checkpoint: 15\n",
            "Train Epoch: 16/26 ...\n",
            " Step: 889/890    total_loss: 5.7471 time: 5m 57s\n",
            "Test Epoch: 16 ...\n",
            " Step: 187/188    ave: 98.8167\n",
            "Saving checkpoint: 16\n",
            "Train Epoch: 17/26 ...\n",
            " Step: 889/890    total_loss: 5.6283 time: 5m 57s\n",
            "Saving checkpoint: 17\n",
            "Train Epoch: 18/26 ...\n",
            " Step: 889/890    total_loss: 4.6298 time: 5m 58s\n",
            "Test Epoch: 18 ...\n",
            " Step: 187/188    ave: 99.0500\n",
            "Saving checkpoint: 18\n",
            "Train Epoch: 19/26 ...\n",
            " Step: 889/890    total_loss: 4.3844 time: 5m 57s\n",
            "Saving checkpoint: 19\n",
            "Train Epoch: 20/26 ...\n",
            " Step: 889/890    total_loss: 4.2612 time: 5m 57s\n",
            "Test Epoch: 20 ...\n",
            " Step: 187/188    ave: 99.0667\n",
            "Saving checkpoint: 20\n",
            "Train Epoch: 21/26 ...\n",
            " Step: 889/890    total_loss: 4.1685 time: 5m 57s\n",
            "Saving checkpoint: 21\n",
            "Train Epoch: 22/26 ...\n",
            " Step: 889/890    total_loss: 3.9982 time: 5m 57s\n",
            "Test Epoch: 22 ...\n",
            " Step: 187/188    ave: 99.0833\n",
            "Saving checkpoint: 22\n",
            "Train Epoch: 23/26 ...\n",
            " Step: 889/890    total_loss: 3.9768 time: 5m 57s\n",
            "Saving checkpoint: 23\n",
            "Train Epoch: 24/26 ...\n",
            " Step: 889/890    total_loss: 3.9656 time: 5m 58s\n",
            "Test Epoch: 24 ...\n",
            " Step: 187/188    ave: 99.0333\n",
            "Saving checkpoint: 24\n",
            "Train Epoch: 25/26 ...\n",
            " Step: 889/890    total_loss: 3.9522 time: 5m 58s\n",
            "Saving checkpoint: 25\n",
            "Train Epoch: 26/26 ...\n",
            " Step: 889/890    total_loss: 3.9407 time: 5m 58s\n",
            "Test Epoch: 26 ...\n",
            " Step: 187/188    ave: 98.9667\n",
            "Saving checkpoint: 26\n",
            "finishing training\n"
          ]
        }
      ],
      "source": [
        "# Edit config.py first before run !!!\n",
        "# ========================================================================\n",
        "# Casia Path = '/content/casia-112x112'\n",
        "# LFW Path = '/content/lfw'\n",
        "# TinyFace Path = '/content/tinyface'\n",
        "# Save path = '../drive/MyDrive/Face Dataset/vargfacenet/model'\n",
        "# Resume path = '../drive/MyDrive/Face Dataset/vargfacenet/model/....ckpt'\n",
        "# ========================================================================\n",
        "\n",
        "# !python train.py"
      ]
    },
    {
      "cell_type": "code",
      "execution_count": null,
      "metadata": {
        "id": "qGZWCBJjd3st"
      },
      "outputs": [],
      "source": [
        "# from google.colab import runtime\n",
        "# runtime.unassign()"
      ]
    },
    {
      "cell_type": "markdown",
      "metadata": {
        "id": "BkK1KeFdUtLX"
      },
      "source": [
        "## Model Benchmark"
      ]
    },
    {
      "cell_type": "code",
      "execution_count": null,
      "metadata": {
        "colab": {
          "base_uri": "https://localhost:8080/"
        },
        "id": "CnLmsh8JVFFE",
        "outputId": "f246597c-c89b-45b3-bdad-158b7185cc50"
      },
      "outputs": [
        {
          "name": "stdout",
          "output_type": "stream",
          "text": [
            "Looking in indexes: https://pypi.org/simple, https://us-python.pkg.dev/colab-wheels/public/simple/\n",
            "Collecting deepspeed\n",
            "  Downloading deepspeed-0.9.4.tar.gz (808 kB)\n",
            "\u001b[2K     \u001b[90m━━━━━━━━━━━━━━━━━━━━━━━━━━━━━━━━━━━━━━\u001b[0m \u001b[32m808.8/808.8 kB\u001b[0m \u001b[31m13.3 MB/s\u001b[0m eta \u001b[36m0:00:00\u001b[0m\n",
            "\u001b[?25h  Preparing metadata (setup.py) ... \u001b[?25l\u001b[?25hdone\n",
            "Collecting hjson (from deepspeed)\n",
            "  Downloading hjson-3.1.0-py3-none-any.whl (54 kB)\n",
            "\u001b[2K     \u001b[90m━━━━━━━━━━━━━━━━━━━━━━━━━━━━━━━━━━━━━━━━\u001b[0m \u001b[32m54.0/54.0 kB\u001b[0m \u001b[31m7.5 MB/s\u001b[0m eta \u001b[36m0:00:00\u001b[0m\n",
            "\u001b[?25hCollecting ninja (from deepspeed)\n",
            "  Downloading ninja-1.11.1-py2.py3-none-manylinux_2_12_x86_64.manylinux2010_x86_64.whl (145 kB)\n",
            "\u001b[2K     \u001b[90m━━━━━━━━━━━━━━━━━━━━━━━━━━━━━━━━━━━━━━\u001b[0m \u001b[32m146.0/146.0 kB\u001b[0m \u001b[31m17.7 MB/s\u001b[0m eta \u001b[36m0:00:00\u001b[0m\n",
            "\u001b[?25hRequirement already satisfied: numpy in /usr/local/lib/python3.10/dist-packages (from deepspeed) (1.22.4)\n",
            "Requirement already satisfied: packaging>=20.0 in /usr/local/lib/python3.10/dist-packages (from deepspeed) (23.1)\n",
            "Requirement already satisfied: psutil in /usr/local/lib/python3.10/dist-packages (from deepspeed) (5.9.5)\n",
            "Requirement already satisfied: py-cpuinfo in /usr/local/lib/python3.10/dist-packages (from deepspeed) (9.0.0)\n",
            "Requirement already satisfied: pydantic<2.0.0 in /usr/local/lib/python3.10/dist-packages (from deepspeed) (1.10.7)\n",
            "Requirement already satisfied: torch in /usr/local/lib/python3.10/dist-packages (from deepspeed) (2.0.1+cu118)\n",
            "Requirement already satisfied: tqdm in /usr/local/lib/python3.10/dist-packages (from deepspeed) (4.65.0)\n",
            "Requirement already satisfied: typing-extensions>=4.2.0 in /usr/local/lib/python3.10/dist-packages (from pydantic<2.0.0->deepspeed) (4.5.0)\n",
            "Requirement already satisfied: filelock in /usr/local/lib/python3.10/dist-packages (from torch->deepspeed) (3.12.0)\n",
            "Requirement already satisfied: sympy in /usr/local/lib/python3.10/dist-packages (from torch->deepspeed) (1.11.1)\n",
            "Requirement already satisfied: networkx in /usr/local/lib/python3.10/dist-packages (from torch->deepspeed) (3.1)\n",
            "Requirement already satisfied: jinja2 in /usr/local/lib/python3.10/dist-packages (from torch->deepspeed) (3.1.2)\n",
            "Requirement already satisfied: triton==2.0.0 in /usr/local/lib/python3.10/dist-packages (from torch->deepspeed) (2.0.0)\n",
            "Requirement already satisfied: cmake in /usr/local/lib/python3.10/dist-packages (from triton==2.0.0->torch->deepspeed) (3.25.2)\n",
            "Requirement already satisfied: lit in /usr/local/lib/python3.10/dist-packages (from triton==2.0.0->torch->deepspeed) (16.0.5)\n",
            "Requirement already satisfied: MarkupSafe>=2.0 in /usr/local/lib/python3.10/dist-packages (from jinja2->torch->deepspeed) (2.1.2)\n",
            "Requirement already satisfied: mpmath>=0.19 in /usr/local/lib/python3.10/dist-packages (from sympy->torch->deepspeed) (1.3.0)\n",
            "Building wheels for collected packages: deepspeed\n",
            "  Building wheel for deepspeed (setup.py) ... \u001b[?25l\u001b[?25hdone\n",
            "  Created wheel for deepspeed: filename=deepspeed-0.9.4-py3-none-any.whl size=844002 sha256=8b342c0fb00f643217a872686ac74edfe34d82044719e0105132b4e7c62c2252\n",
            "  Stored in directory: /root/.cache/pip/wheels/2d/ae/38/1d1c49ac8687c5808b3732e3541b6c896459fb8404763eb98b\n",
            "Successfully built deepspeed\n",
            "Installing collected packages: ninja, hjson, deepspeed\n",
            "Successfully installed deepspeed-0.9.4 hjson-3.1.0 ninja-1.11.1\n"
          ]
        }
      ],
      "source": [
        "# !pip install torchinfo\n",
        "# !pip install -U 'git+https://github.com/facebookresearch/fvcore'\n",
        "!pip install deepspeed"
      ]
    },
    {
      "cell_type": "code",
      "execution_count": null,
      "metadata": {
        "colab": {
          "base_uri": "https://localhost:8080/"
        },
        "id": "iVgCI6d6Z6CG",
        "outputId": "652c32e4-c001-463f-da24-f1278cd6b9d7"
      },
      "outputs": [
        {
          "name": "stdout",
          "output_type": "stream",
          "text": [
            "[2023-06-17 07:49:41,624] [INFO] [real_accelerator.py:110:get_accelerator] Setting ds_accelerator to cuda (auto detect)\n"
          ]
        }
      ],
      "source": [
        "import torch\n",
        "import numpy as np\n",
        "from core import model, shuffleface\n",
        "# from torchinfo import summary\n",
        "# from fvcore.nn import FlopCountAnalysis , flop_count_table\n",
        "from deepspeed.profiling.flops_profiler import get_model_profile\n",
        "from deepspeed.accelerator import get_accelerator\n",
        "from torch.profiler import profile, record_function, ProfilerActivity"
      ]
    },
    {
      "cell_type": "code",
      "execution_count": null,
      "metadata": {
        "id": "selUIi_-Vkab"
      },
      "outputs": [],
      "source": [
        "def benchmark():\n",
        "    # net = model.VarGFaceNet()\n",
        "    net = shuffleface.ShuffleFaceNet()\n",
        "    net = net.eval()\n",
        "    with get_accelerator().device(0):\n",
        "        flops, macs, params = get_model_profile(model=net, # model\n",
        "                                        input_shape=(1, 3, 112, 112), # input shape to the model. If specified, the model takes a tensor with this shape as the only positional argument.\n",
        "                                        args=None, # list of positional arguments to the model.\n",
        "                                        kwargs=None, # dictionary of keyword arguments to the model.\n",
        "                                        print_profile=True, # prints the model graph with the measured profile attached to each module\n",
        "                                        detailed=False, # print the detailed profile\n",
        "                                        module_depth=-1, # depth into the nested modules, with -1 being the inner most modules\n",
        "                                        top_modules=1, # the number of top modules to print aggregated profile\n",
        "                                        warm_up=30, # the number of warm-ups before measuring the time of each module\n",
        "                                        as_string=True, # print raw numbers (e.g. 1000) or as human-readable strings (e.g. 1k)\n",
        "                                        output_file=\"/content/shuffleface profile.txt\", # path to the output file. If None, the profiler prints to stdout.\n",
        "                                        ignore_modules=None) # the list of modules to ignore in the profiling\n",
        "    print(f\"FLOPs: {flops}\")\n",
        "    print(f\"MACs: {macs}\")\n",
        "    print(f\"Params: {params}\")\n",
        "\n",
        "def time_benchmark(gpu=False):\n",
        "    device = \"cuda\" if gpu==True else \"cpu\"\n",
        "    # net = model.VarGFaceNet().to(device)\n",
        "    net = shuffleface.ShuffleFaceNet().to(device)\n",
        "    net.eval()\n",
        "\n",
        "    start, end = torch.cuda.Event(enable_timing=True), torch.cuda.Event(enable_timing=True)\n",
        "    reps = 300\n",
        "    timings = np.zeros((reps, 1))\n",
        "    input = torch.randn(1, 3, 112, 112).to(device)\n",
        "\n",
        "    # GPU warmup\n",
        "    for _ in range(10):\n",
        "        embedding, norm = net(input)\n",
        "\n",
        "    # Measure performance\n",
        "    with torch.no_grad():\n",
        "        for rep in range(reps):\n",
        "            start.record()\n",
        "            embedding, norm = net(input)\n",
        "            end.record()\n",
        "            # Wait for GPU to sync\n",
        "            torch.cuda.synchronize()\n",
        "            curr_time = start.elapsed_time(end)\n",
        "            timings[rep] = curr_time\n",
        "\n",
        "    mean_syn = np.sum(timings) * 10 ** -3 / reps\n",
        "    print(f\"{device} time total: {round(mean_syn*1000, 2)}ms\")\n",
        "\n",
        "    # embedding, _ = net(input)\n",
        "\n",
        "    # with profile(activities=[ProfilerActivity.CPU, ProfilerActivity.CUDA], record_shapes=True) as prof:\n",
        "    #     with record_function(\"model_inference\"):\n",
        "    #         embedding, _ = net(input)\n",
        "\n",
        "    # print(prof.key_averages().table(sort_by=\"cuda_time_total\", row_limit=10))"
      ]
    },
    {
      "cell_type": "code",
      "execution_count": null,
      "metadata": {
        "colab": {
          "base_uri": "https://localhost:8080/"
        },
        "id": "abwW0YQkqNsD",
        "outputId": "b87e525d-e847-4f5d-8168-95a7ec3ac4ec"
      },
      "outputs": [
        {
          "name": "stdout",
          "output_type": "stream",
          "text": [
            "FLOPs: 584.59 M\n",
            "MACs: 288.82 MMACs\n",
            "Params: 2.66 M\n"
          ]
        }
      ],
      "source": [
        "# Model Profiling\n",
        "benchmark()"
      ]
    },
    {
      "cell_type": "code",
      "execution_count": null,
      "metadata": {
        "colab": {
          "base_uri": "https://localhost:8080/"
        },
        "id": "YtlwR_CTVWu4",
        "outputId": "1494e3cd-8967-4fa9-f229-fa7c10882dab"
      },
      "outputs": [
        {
          "name": "stdout",
          "output_type": "stream",
          "text": [
            "cpu time total: 22.36ms\n"
          ]
        }
      ],
      "source": [
        "# Model benchmark without GPU\n",
        "time_benchmark(gpu=False)"
      ]
    },
    {
      "cell_type": "code",
      "execution_count": null,
      "metadata": {
        "colab": {
          "base_uri": "https://localhost:8080/"
        },
        "id": "3MQ83Wco2Kfq",
        "outputId": "d430225e-d018-4789-af59-60df4c7d00bf"
      },
      "outputs": [
        {
          "name": "stdout",
          "output_type": "stream",
          "text": [
            "cuda time total: 13.05ms\n"
          ]
        }
      ],
      "source": [
        "# Model benchmark with GPU\n",
        "time_benchmark(gpu=True)"
      ]
    },
    {
      "cell_type": "markdown",
      "metadata": {
        "id": "XN4fYEKbKknX"
      },
      "source": [
        "## LFW Evaluation"
      ]
    },
    {
      "cell_type": "code",
      "execution_count": null,
      "metadata": {
        "id": "tLlyKwGoK3j3"
      },
      "outputs": [],
      "source": [
        "from lfw_eval import getFeatureFromTorch, evaluation_10_fold\n",
        "from inference import inference, face_verification\n",
        "from config import LFW_DATA_DIR\n",
        "import numpy as np\n",
        "import os"
      ]
    },
    {
      "cell_type": "markdown",
      "metadata": {
        "id": "nLU8BMkGKrsh"
      },
      "source": [
        "### LFW 112x112"
      ]
    },
    {
      "cell_type": "code",
      "execution_count": null,
      "metadata": {
        "id": "QHiAVCSxmHNY"
      },
      "outputs": [],
      "source": [
        "model = \"/content/drive/MyDrive/Face Recognition/model/VarGFaceNet/AdaFace/CASIA_VarGFaceNet_20230605_042815/022.ckpt\"\n",
        "save_dir = \"result/lfw-112x112_result.mat\"\n",
        "imgl = \"/content/lfw/lfw-112x112/Adel_Al-Jubeir/Adel_Al-Jubeir_0001.jpg\"\n",
        "imgr = \"/content/lfw/lfw-112x112/Adel_Al-Jubeir/Adel_Al-Jubeir_0002.jpg\"\n",
        "# imgr = \"/content/lfw/lfw-112x112/Abdoulaye_Wade/Abdoulaye_Wade_0002.jpg\" # different face"
      ]
    },
    {
      "cell_type": "code",
      "execution_count": null,
      "metadata": {
        "colab": {
          "base_uri": "https://localhost:8080/"
        },
        "id": "r5aMh3uYLPtm",
        "outputId": "9a9c7efd-2d9e-4cbc-aed6-f3d4f660d0fb"
      },
      "outputs": [
        {
          "name": "stderr",
          "output_type": "stream",
          "text": [
            "/usr/local/lib/python3.10/dist-packages/torch/utils/data/dataloader.py:560: UserWarning: This DataLoader will create 4 worker processes in total. Our suggested max number of worker in current system is 2, which is smaller than what this DataLoader is going to create. Please be aware that excessive worker creation might get DataLoader running slow or even freeze, lower the worker number to avoid potential slowness/freeze if necessary.\n",
            "  warnings.warn(_create_warning_msg(\n"
          ]
        },
        {
          "name": "stdout",
          "output_type": "stream",
          "text": [
            "extracing deep features from the face pair 6000/6000\n",
            "-------------------------------------\n",
            "1    99.00\n",
            "2    99.00\n",
            "3    99.17\n",
            "4    98.33\n",
            "5    98.67\n",
            "6    99.50\n",
            "7    98.67\n",
            "8    99.33\n",
            "9    99.67\n",
            "10    99.50\n",
            "--------\n",
            "AVE ACC    99.08\n",
            "AVE THS    0.23\n"
          ]
        }
      ],
      "source": [
        "getFeatureFromTorch(LFW_DATA_DIR, \"lfw-112x112\", save_dir, resume=model, gpu=True)\n",
        "ACCs, thresholds = evaluation_10_fold(save_dir)\n",
        "\n",
        "print(\"\\n-------------------------------------\")\n",
        "for i in range(len(ACCs)):\n",
        "    print('{}    {:.2f}'.format(i+1, ACCs[i] * 100))\n",
        "print('--------')\n",
        "print('AVE ACC    {:.2f}'.format(np.mean(ACCs) * 100))\n",
        "print('AVE THS    {:.2f}'.format(np.mean(thresholds)))"
      ]
    },
    {
      "cell_type": "code",
      "execution_count": null,
      "metadata": {
        "colab": {
          "base_uri": "https://localhost:8080/"
        },
        "id": "qEVBt4XgLwQD",
        "outputId": "34854213-e677-4451-a217-1bb6b7971502"
      },
      "outputs": [
        {
          "name": "stdout",
          "output_type": "stream",
          "text": [
            "Jarak Embedding: 0.7763283252716064\n",
            "Gambar tersebut adalah gambar dari orang yang sama\n"
          ]
        }
      ],
      "source": [
        "# Face Verification test\n",
        "face_verification(imgl, imgr, resume=model, gpu=True)"
      ]
    },
    {
      "cell_type": "markdown",
      "metadata": {
        "id": "hS_jOvRsMDkb"
      },
      "source": [
        "### LFW 56x56"
      ]
    },
    {
      "cell_type": "code",
      "execution_count": null,
      "metadata": {
        "id": "pn9JKPaCMDkb"
      },
      "outputs": [],
      "source": [
        "model = \"/content/drive/MyDrive/Face Recognition/model/VarGFaceNet/AdaFace/CASIA_VarGFaceNet_20230605_042815/022.ckpt\"\n",
        "save_dir = \"result/lfw-56x56_result.mat\"\n",
        "imgl = \"/content/lfw/SR/lfw-56x56/Adel_Al-Jubeir/Adel_Al-Jubeir_0001.jpg\"\n",
        "imgr = \"/content/lfw/SR/lfw-56x56/Adel_Al-Jubeir/Adel_Al-Jubeir_0002.jpg\"\n",
        "# imgr = \"/content/lfw/SR/lfw-56x56/Abdoulaye_Wade/Abdoulaye_Wade_0002.jpg\" # different face"
      ]
    },
    {
      "cell_type": "code",
      "execution_count": null,
      "metadata": {
        "colab": {
          "base_uri": "https://localhost:8080/"
        },
        "id": "OvlJEbpXJjFg",
        "outputId": "1413585e-d26f-4f1d-8a17-1cc07d4cb169"
      },
      "outputs": [
        {
          "name": "stdout",
          "output_type": "stream",
          "text": [
            "extracing deep features from the face pair 6000/6000\n",
            "-------------------------------------\n",
            "1    98.83\n",
            "2    98.67\n",
            "3    98.67\n",
            "4    98.00\n",
            "5    98.67\n",
            "6    99.33\n",
            "7    98.83\n",
            "8    99.00\n",
            "9    99.83\n",
            "10    99.33\n",
            "--------\n",
            "AVE ACC    98.92\n",
            "AVE THS    0.23\n"
          ]
        }
      ],
      "source": [
        "getFeatureFromTorch(LFW_DATA_DIR, \"lfw-56x56\", save_dir, resume=model, gpu=True)\n",
        "ACCs, thresholds = evaluation_10_fold(save_dir)\n",
        "\n",
        "print(\"\\n-------------------------------------\")\n",
        "for i in range(len(ACCs)):\n",
        "    print('{}    {:.2f}'.format(i+1, ACCs[i] * 100))\n",
        "print('--------')\n",
        "print('AVE ACC    {:.2f}'.format(np.mean(ACCs) * 100))\n",
        "print('AVE THS    {:.2f}'.format(np.mean(thresholds)))"
      ]
    },
    {
      "cell_type": "code",
      "execution_count": null,
      "metadata": {
        "colab": {
          "base_uri": "https://localhost:8080/"
        },
        "id": "NHv_tZxzMDkc",
        "outputId": "5c7c3338-a60d-4ac2-9a0c-96d5a7477b04"
      },
      "outputs": [
        {
          "name": "stdout",
          "output_type": "stream",
          "text": [
            "extracing deep features from the face pair 6000/6000\n",
            "-------------------------------------\n",
            "1    98.67\n",
            "2    98.67\n",
            "3    99.00\n",
            "4    97.00\n",
            "5    98.17\n",
            "6    99.33\n",
            "7    98.50\n",
            "8    98.50\n",
            "9    99.33\n",
            "10    99.00\n",
            "--------\n",
            "AVE ACC    98.62\n",
            "AVE THS    0.21\n"
          ]
        }
      ],
      "source": [
        "getFeatureFromTorch(LFW_DATA_DIR, \"SR/lfw-56x56\", save_dir, resume=model, gpu=True)\n",
        "ACCs, thresholds = evaluation_10_fold(save_dir)\n",
        "\n",
        "print(\"\\n-------------------------------------\")\n",
        "for i in range(len(ACCs)):\n",
        "    print('{}    {:.2f}'.format(i+1, ACCs[i] * 100))\n",
        "print('--------')\n",
        "print('AVE ACC    {:.2f}'.format(np.mean(ACCs) * 100))\n",
        "print('AVE THS    {:.2f}'.format(np.mean(thresholds)))"
      ]
    },
    {
      "cell_type": "code",
      "execution_count": null,
      "metadata": {
        "colab": {
          "base_uri": "https://localhost:8080/"
        },
        "id": "2CT-0RFq1m2X",
        "outputId": "43ba9f40-3f26-4225-a114-5be4091fe910"
      },
      "outputs": [
        {
          "name": "stdout",
          "output_type": "stream",
          "text": [
            "Jarak Embedding: 0.7426758408546448\n",
            "Gambar tersebut adalah gambar dari orang yang sama\n"
          ]
        }
      ],
      "source": [
        "# Face Verification test\n",
        "face_verification(imgl, imgr, resume=model, gpu=True)"
      ]
    },
    {
      "cell_type": "markdown",
      "metadata": {
        "id": "X7M693i0MEaT"
      },
      "source": [
        "### LFW 28x28"
      ]
    },
    {
      "cell_type": "code",
      "execution_count": null,
      "metadata": {
        "id": "S8syNjZmMEaT"
      },
      "outputs": [],
      "source": [
        "model = \"/content/drive/MyDrive/Face Recognition/model/VarGFaceNet/AdaFace/CASIA_VarGFaceNet_20230605_042815/022.ckpt\"\n",
        "save_dir = \"result/lfw-28x28_result.mat\"\n",
        "imgl = \"/content/lfw/SR/lfw-28x28/Adel_Al-Jubeir/Adel_Al-Jubeir_0001.jpg\"\n",
        "imgr = \"/content/lfw/SR/lfw-28x28/Adel_Al-Jubeir/Adel_Al-Jubeir_0002.jpg\"\n",
        "# imgr = \"/content/lfw/SR/lfw-28x28/Abdoulaye_Wade/Abdoulaye_Wade_0002.jpg\" # different face"
      ]
    },
    {
      "cell_type": "code",
      "execution_count": null,
      "metadata": {
        "colab": {
          "base_uri": "https://localhost:8080/"
        },
        "id": "sWyahyWDKEgs",
        "outputId": "dc5c9bb3-dae8-4522-e80d-a85a32cd9ed5"
      },
      "outputs": [
        {
          "name": "stdout",
          "output_type": "stream",
          "text": [
            "extracing deep features from the face pair 6000/6000\n",
            "-------------------------------------\n",
            "1    95.83\n",
            "2    96.50\n",
            "3    96.00\n",
            "4    95.00\n",
            "5    95.67\n",
            "6    97.17\n",
            "7    97.83\n",
            "8    96.33\n",
            "9    97.33\n",
            "10    96.17\n",
            "--------\n",
            "AVE ACC    96.38\n",
            "AVE THS    0.17\n"
          ]
        }
      ],
      "source": [
        "getFeatureFromTorch(LFW_DATA_DIR, \"lfw-28x28\", save_dir, resume=model, gpu=True)\n",
        "ACCs, thresholds = evaluation_10_fold(save_dir)\n",
        "\n",
        "print(\"\\n-------------------------------------\")\n",
        "for i in range(len(ACCs)):\n",
        "    print('{}    {:.2f}'.format(i+1, ACCs[i] * 100))\n",
        "print('--------')\n",
        "print('AVE ACC    {:.2f}'.format(np.mean(ACCs) * 100))\n",
        "print('AVE THS    {:.2f}'.format(np.mean(thresholds)))"
      ]
    },
    {
      "cell_type": "code",
      "execution_count": null,
      "metadata": {
        "colab": {
          "base_uri": "https://localhost:8080/"
        },
        "id": "yCTHbGIEMEaU",
        "outputId": "2625da76-ea1c-424f-deb8-4daf10ab8521"
      },
      "outputs": [
        {
          "name": "stdout",
          "output_type": "stream",
          "text": [
            "extracing deep features from the face pair 6000/6000\n",
            "-------------------------------------\n",
            "1    95.67\n",
            "2    95.33\n",
            "3    96.50\n",
            "4    94.33\n",
            "5    94.17\n",
            "6    95.33\n",
            "7    97.33\n",
            "8    95.67\n",
            "9    96.67\n",
            "10    95.00\n",
            "--------\n",
            "AVE ACC    95.60\n",
            "AVE THS    0.17\n"
          ]
        }
      ],
      "source": [
        "getFeatureFromTorch(LFW_DATA_DIR, \"SR/lfw-28x28\", save_dir, resume=model, gpu=True)\n",
        "ACCs, thresholds = evaluation_10_fold(save_dir)\n",
        "\n",
        "print(\"\\n-------------------------------------\")\n",
        "for i in range(len(ACCs)):\n",
        "    print('{}    {:.2f}'.format(i+1, ACCs[i] * 100))\n",
        "print('--------')\n",
        "print('AVE ACC    {:.2f}'.format(np.mean(ACCs) * 100))\n",
        "print('AVE THS    {:.2f}'.format(np.mean(thresholds)))"
      ]
    },
    {
      "cell_type": "code",
      "execution_count": null,
      "metadata": {
        "colab": {
          "base_uri": "https://localhost:8080/"
        },
        "id": "mFC8iXxr1s9k",
        "outputId": "022b6668-11e9-4ac3-b207-f869d321d926"
      },
      "outputs": [
        {
          "name": "stdout",
          "output_type": "stream",
          "text": [
            "Jarak Embedding: 0.568160355091095\n",
            "Gambar tersebut adalah gambar dari orang yang berbeda\n"
          ]
        }
      ],
      "source": [
        "# Face Verification test\n",
        "face_verification(imgl, imgr, resume=model, gpu=True)"
      ]
    },
    {
      "cell_type": "markdown",
      "metadata": {
        "id": "234sGticME4y"
      },
      "source": [
        "### LFW 14x14"
      ]
    },
    {
      "cell_type": "code",
      "execution_count": null,
      "metadata": {
        "id": "ocmKjJEqME4z"
      },
      "outputs": [],
      "source": [
        "model = \"/content/drive/MyDrive/Face Recognition/model/VarGFaceNet/AdaFace/CASIA_VarGFaceNet_20230605_042815/022.ckpt\"\n",
        "save_dir = \"result/lfw-14x14_result.mat\"\n",
        "imgl = \"/content/lfw/SR/lfw-14x14/Adel_Al-Jubeir/Adel_Al-Jubeir_0001.jpg\"\n",
        "imgr = \"/content/lfw/SR/lfw-14x14/Adel_Al-Jubeir/Adel_Al-Jubeir_0002.jpg\"\n",
        "# imgr = \"/content/lfw/SR/lfw-14x14/Abdoulaye_Wade/Abdoulaye_Wade_0002.jpg\" # different face"
      ]
    },
    {
      "cell_type": "code",
      "execution_count": null,
      "metadata": {
        "colab": {
          "base_uri": "https://localhost:8080/"
        },
        "id": "Sjp4oVruK-rZ",
        "outputId": "c71be880-59a8-4889-ac2f-83c3d39622c5"
      },
      "outputs": [
        {
          "name": "stdout",
          "output_type": "stream",
          "text": [
            "extracing deep features from the face pair 6000/6000\n",
            "-------------------------------------\n",
            "1    73.00\n",
            "2    69.83\n",
            "3    70.83\n",
            "4    72.50\n",
            "5    69.83\n",
            "6    72.67\n",
            "7    69.83\n",
            "8    71.67\n",
            "9    70.00\n",
            "10    72.67\n",
            "--------\n",
            "AVE ACC    71.28\n",
            "AVE THS    0.18\n"
          ]
        }
      ],
      "source": [
        "getFeatureFromTorch(LFW_DATA_DIR, \"lfw-14x14\", save_dir, resume=model, gpu=True)\n",
        "ACCs, thresholds = evaluation_10_fold(save_dir)\n",
        "\n",
        "print(\"\\n-------------------------------------\")\n",
        "for i in range(len(ACCs)):\n",
        "    print('{}    {:.2f}'.format(i+1, ACCs[i] * 100))\n",
        "print('--------')\n",
        "print('AVE ACC    {:.2f}'.format(np.mean(ACCs) * 100))\n",
        "print('AVE THS    {:.2f}'.format(np.mean(thresholds)))"
      ]
    },
    {
      "cell_type": "code",
      "execution_count": null,
      "metadata": {
        "colab": {
          "base_uri": "https://localhost:8080/"
        },
        "id": "5ud9wumgME4z",
        "outputId": "f6d8d134-550a-4a09-d169-278f1e108ed7"
      },
      "outputs": [
        {
          "name": "stdout",
          "output_type": "stream",
          "text": [
            "extracing deep features from the face pair 6000/6000\n",
            "-------------------------------------\n",
            "1    80.83\n",
            "2    78.83\n",
            "3    80.33\n",
            "4    80.67\n",
            "5    77.67\n",
            "6    81.50\n",
            "7    81.83\n",
            "8    77.67\n",
            "9    79.33\n",
            "10    80.00\n",
            "--------\n",
            "AVE ACC    79.87\n",
            "AVE THS    0.10\n"
          ]
        }
      ],
      "source": [
        "getFeatureFromTorch(LFW_DATA_DIR, \"SR/lfw-14x14\", save_dir, resume=model, gpu=True)\n",
        "ACCs, thresholds = evaluation_10_fold(save_dir)\n",
        "\n",
        "print(\"\\n-------------------------------------\")\n",
        "for i in range(len(ACCs)):\n",
        "    print('{}    {:.2f}'.format(i+1, ACCs[i] * 100))\n",
        "print('--------')\n",
        "print('AVE ACC    {:.2f}'.format(np.mean(ACCs) * 100))\n",
        "print('AVE THS    {:.2f}'.format(np.mean(thresholds)))"
      ]
    },
    {
      "cell_type": "code",
      "execution_count": null,
      "metadata": {
        "colab": {
          "base_uri": "https://localhost:8080/"
        },
        "id": "aPOy_t_M1xeH",
        "outputId": "36cbd932-75fb-4407-f204-fce96ef7c0c8"
      },
      "outputs": [
        {
          "name": "stdout",
          "output_type": "stream",
          "text": [
            "Jarak Embedding: 0.5059691667556763\n",
            "Gambar tersebut adalah gambar dari orang yang berbeda\n"
          ]
        }
      ],
      "source": [
        "# Face Verification test\n",
        "face_verification(imgl, imgr, resume=model, gpu=True)"
      ]
    },
    {
      "cell_type": "markdown",
      "metadata": {
        "id": "byBJfIXTM2xQ"
      },
      "source": [
        "## TinyFace Evaluation"
      ]
    },
    {
      "cell_type": "code",
      "execution_count": null,
      "metadata": {
        "id": "d0z5FofHNLC1"
      },
      "outputs": [],
      "source": [
        "from tinyface_eval import load_model, prepare_dataloader, infer, calc_accuracy\n",
        "import tinyface_helper\n",
        "from config import TINYFACE_DATA_DIR\n",
        "import pandas as pd\n",
        "import os"
      ]
    },
    {
      "cell_type": "code",
      "execution_count": null,
      "metadata": {
        "id": "cKsvAReEM6cO"
      },
      "outputs": [],
      "source": [
        "resume = \"/content/drive/MyDrive/Face Recognition/vargfacenet/model/AdaFace/CASIA_VarGFaceNet_20230603_061119/022.ckpt\"\n",
        "save_dir = \"result\""
      ]
    },
    {
      "cell_type": "code",
      "execution_count": null,
      "metadata": {
        "colab": {
          "base_uri": "https://localhost:8080/",
          "height": 351
        },
        "id": "FHYBm9sINHhf",
        "outputId": "0bc120e8-49d7-49ce-b05a-9ea1fa76bd0b"
      },
      "outputs": [
        {
          "name": "stderr",
          "output_type": "stream",
          "text": [
            "/usr/local/lib/python3.10/dist-packages/torch/utils/data/dataloader.py:560: UserWarning: This DataLoader will create 5 worker processes in total. Our suggested max number of worker in current system is 2, which is smaller than what this DataLoader is going to create. Please be aware that excessive worker creation might get DataLoader running slow or even freeze, lower the worker number to avoid potential slowness/freeze if necessary.\n",
            "  warnings.warn(_create_warning_msg(\n"
          ]
        },
        {
          "name": "stdout",
          "output_type": "stream",
          "text": [
            "probe images: 3728\n",
            "gallery images: 157871\n"
          ]
        },
        {
          "name": "stderr",
          "output_type": "stream",
          "text": [
            "100%|██████████| 117/117 [00:11<00:00, 10.19it/s]\n",
            "100%|██████████| 4934/4934 [07:24<00:00, 11.10it/s]\n"
          ]
        },
        {
          "name": "stdout",
          "output_type": "stream",
          "text": [
            "[46.08369098712446, 52.57510729613733, 55.391630901287556, 58.15450643776824]\n",
            "\n",
            "\n"
          ]
        },
        {
          "data": {
            "text/html": [
              "\n",
              "  <div id=\"df-6f136582-174e-43da-82cd-c55d47929378\">\n",
              "    <div class=\"colab-df-container\">\n",
              "      <div>\n",
              "<style scoped>\n",
              "    .dataframe tbody tr th:only-of-type {\n",
              "        vertical-align: middle;\n",
              "    }\n",
              "\n",
              "    .dataframe tbody tr th {\n",
              "        vertical-align: top;\n",
              "    }\n",
              "\n",
              "    .dataframe thead th {\n",
              "        text-align: right;\n",
              "    }\n",
              "</style>\n",
              "<table border=\"1\" class=\"dataframe\">\n",
              "  <thead>\n",
              "    <tr style=\"text-align: right;\">\n",
              "      <th></th>\n",
              "      <th>rank</th>\n",
              "      <th>values</th>\n",
              "    </tr>\n",
              "  </thead>\n",
              "  <tbody>\n",
              "    <tr>\n",
              "      <th>0</th>\n",
              "      <td>1</td>\n",
              "      <td>46.083691</td>\n",
              "    </tr>\n",
              "    <tr>\n",
              "      <th>1</th>\n",
              "      <td>5</td>\n",
              "      <td>52.575107</td>\n",
              "    </tr>\n",
              "    <tr>\n",
              "      <th>2</th>\n",
              "      <td>10</td>\n",
              "      <td>55.391631</td>\n",
              "    </tr>\n",
              "    <tr>\n",
              "      <th>3</th>\n",
              "      <td>20</td>\n",
              "      <td>58.154506</td>\n",
              "    </tr>\n",
              "  </tbody>\n",
              "</table>\n",
              "</div>\n",
              "      <button class=\"colab-df-convert\" onclick=\"convertToInteractive('df-6f136582-174e-43da-82cd-c55d47929378')\"\n",
              "              title=\"Convert this dataframe to an interactive table.\"\n",
              "              style=\"display:none;\">\n",
              "        \n",
              "  <svg xmlns=\"http://www.w3.org/2000/svg\" height=\"24px\"viewBox=\"0 0 24 24\"\n",
              "       width=\"24px\">\n",
              "    <path d=\"M0 0h24v24H0V0z\" fill=\"none\"/>\n",
              "    <path d=\"M18.56 5.44l.94 2.06.94-2.06 2.06-.94-2.06-.94-.94-2.06-.94 2.06-2.06.94zm-11 1L8.5 8.5l.94-2.06 2.06-.94-2.06-.94L8.5 2.5l-.94 2.06-2.06.94zm10 10l.94 2.06.94-2.06 2.06-.94-2.06-.94-.94-2.06-.94 2.06-2.06.94z\"/><path d=\"M17.41 7.96l-1.37-1.37c-.4-.4-.92-.59-1.43-.59-.52 0-1.04.2-1.43.59L10.3 9.45l-7.72 7.72c-.78.78-.78 2.05 0 2.83L4 21.41c.39.39.9.59 1.41.59.51 0 1.02-.2 1.41-.59l7.78-7.78 2.81-2.81c.8-.78.8-2.07 0-2.86zM5.41 20L4 18.59l7.72-7.72 1.47 1.35L5.41 20z\"/>\n",
              "  </svg>\n",
              "      </button>\n",
              "      \n",
              "  <style>\n",
              "    .colab-df-container {\n",
              "      display:flex;\n",
              "      flex-wrap:wrap;\n",
              "      gap: 12px;\n",
              "    }\n",
              "\n",
              "    .colab-df-convert {\n",
              "      background-color: #E8F0FE;\n",
              "      border: none;\n",
              "      border-radius: 50%;\n",
              "      cursor: pointer;\n",
              "      display: none;\n",
              "      fill: #1967D2;\n",
              "      height: 32px;\n",
              "      padding: 0 0 0 0;\n",
              "      width: 32px;\n",
              "    }\n",
              "\n",
              "    .colab-df-convert:hover {\n",
              "      background-color: #E2EBFA;\n",
              "      box-shadow: 0px 1px 2px rgba(60, 64, 67, 0.3), 0px 1px 3px 1px rgba(60, 64, 67, 0.15);\n",
              "      fill: #174EA6;\n",
              "    }\n",
              "\n",
              "    [theme=dark] .colab-df-convert {\n",
              "      background-color: #3B4455;\n",
              "      fill: #D2E3FC;\n",
              "    }\n",
              "\n",
              "    [theme=dark] .colab-df-convert:hover {\n",
              "      background-color: #434B5C;\n",
              "      box-shadow: 0px 1px 3px 1px rgba(0, 0, 0, 0.15);\n",
              "      filter: drop-shadow(0px 1px 2px rgba(0, 0, 0, 0.3));\n",
              "      fill: #FFFFFF;\n",
              "    }\n",
              "  </style>\n",
              "\n",
              "      <script>\n",
              "        const buttonEl =\n",
              "          document.querySelector('#df-6f136582-174e-43da-82cd-c55d47929378 button.colab-df-convert');\n",
              "        buttonEl.style.display =\n",
              "          google.colab.kernel.accessAllowed ? 'block' : 'none';\n",
              "\n",
              "        async function convertToInteractive(key) {\n",
              "          const element = document.querySelector('#df-6f136582-174e-43da-82cd-c55d47929378');\n",
              "          const dataTable =\n",
              "            await google.colab.kernel.invokeFunction('convertToInteractive',\n",
              "                                                     [key], {});\n",
              "          if (!dataTable) return;\n",
              "\n",
              "          const docLinkHtml = 'Like what you see? Visit the ' +\n",
              "            '<a target=\"_blank\" href=https://colab.research.google.com/notebooks/data_table.ipynb>data table notebook</a>'\n",
              "            + ' to learn more about interactive tables.';\n",
              "          element.innerHTML = '';\n",
              "          dataTable['output_type'] = 'display_data';\n",
              "          await google.colab.output.renderOutput(dataTable, element);\n",
              "          const docLink = document.createElement('div');\n",
              "          docLink.innerHTML = docLinkHtml;\n",
              "          element.appendChild(docLink);\n",
              "        }\n",
              "      </script>\n",
              "    </div>\n",
              "  </div>\n",
              "  "
            ],
            "text/plain": [
              "   rank     values\n",
              "0     1  46.083691\n",
              "1     5  52.575107\n",
              "2    10  55.391631\n",
              "3    20  58.154506"
            ]
          },
          "execution_count": 4,
          "metadata": {},
          "output_type": "execute_result"
        }
      ],
      "source": [
        "# load model\n",
        "model = load_model(resume)\n",
        "# tinyface_test = tinyface_helper.TinyFaceTest(tinyface_root=os.path.join(TINYFACE_DATA_DIR, \"SR\"))\n",
        "tinyface_test = tinyface_helper.TinyFaceTest(tinyface_root=TINYFACE_DATA_DIR)\n",
        "\n",
        "probe_loader = prepare_dataloader(tinyface_test.probe_paths, 32, num_workers=5)\n",
        "gallery_loader = prepare_dataloader(tinyface_test.gallery_paths, 32, num_workers=5)\n",
        "\n",
        "print('probe images: {}'.format(len(tinyface_test.probe_paths)))\n",
        "print('gallery images: {}'.format(len(tinyface_test.gallery_paths)))\n",
        "\n",
        "probe_features = infer(model, probe_loader, use_flip_test=True)\n",
        "gallery_features = infer(model, gallery_loader, use_flip_test=True)\n",
        "calc_accuracy(tinyface_test, probe_features, gallery_features, save_dir, do_norm=True)\n",
        "print(\"\\n\")\n",
        "df_result = pd.read_csv('result/tinyface_result.csv')\n",
        "df_result"
      ]
    },
    {
      "cell_type": "code",
      "execution_count": null,
      "metadata": {
        "colab": {
          "base_uri": "https://localhost:8080/",
          "height": 351
        },
        "id": "le09pUkcHhK2",
        "outputId": "bc4b1d41-13b3-443d-bafa-050a7ba510a0"
      },
      "outputs": [
        {
          "name": "stderr",
          "output_type": "stream",
          "text": [
            "/usr/local/lib/python3.10/dist-packages/torch/utils/data/dataloader.py:560: UserWarning: This DataLoader will create 5 worker processes in total. Our suggested max number of worker in current system is 2, which is smaller than what this DataLoader is going to create. Please be aware that excessive worker creation might get DataLoader running slow or even freeze, lower the worker number to avoid potential slowness/freeze if necessary.\n",
            "  warnings.warn(_create_warning_msg(\n"
          ]
        },
        {
          "name": "stdout",
          "output_type": "stream",
          "text": [
            "probe images: 3728\n",
            "gallery images: 157871\n"
          ]
        },
        {
          "name": "stderr",
          "output_type": "stream",
          "text": [
            "100%|██████████| 117/117 [00:11<00:00, 10.48it/s]\n",
            "100%|██████████| 4934/4934 [07:24<00:00, 11.09it/s]\n"
          ]
        },
        {
          "name": "stdout",
          "output_type": "stream",
          "text": [
            "[45.037553648068666, 51.636266094420606, 54.613733905579394, 57.64484978540773]\n",
            "\n",
            "\n"
          ]
        },
        {
          "data": {
            "text/html": [
              "\n",
              "  <div id=\"df-f1731ea8-1f57-4e80-957d-9b4cb63695d1\">\n",
              "    <div class=\"colab-df-container\">\n",
              "      <div>\n",
              "<style scoped>\n",
              "    .dataframe tbody tr th:only-of-type {\n",
              "        vertical-align: middle;\n",
              "    }\n",
              "\n",
              "    .dataframe tbody tr th {\n",
              "        vertical-align: top;\n",
              "    }\n",
              "\n",
              "    .dataframe thead th {\n",
              "        text-align: right;\n",
              "    }\n",
              "</style>\n",
              "<table border=\"1\" class=\"dataframe\">\n",
              "  <thead>\n",
              "    <tr style=\"text-align: right;\">\n",
              "      <th></th>\n",
              "      <th>rank</th>\n",
              "      <th>values</th>\n",
              "    </tr>\n",
              "  </thead>\n",
              "  <tbody>\n",
              "    <tr>\n",
              "      <th>0</th>\n",
              "      <td>1</td>\n",
              "      <td>45.037554</td>\n",
              "    </tr>\n",
              "    <tr>\n",
              "      <th>1</th>\n",
              "      <td>5</td>\n",
              "      <td>51.636266</td>\n",
              "    </tr>\n",
              "    <tr>\n",
              "      <th>2</th>\n",
              "      <td>10</td>\n",
              "      <td>54.613734</td>\n",
              "    </tr>\n",
              "    <tr>\n",
              "      <th>3</th>\n",
              "      <td>20</td>\n",
              "      <td>57.644850</td>\n",
              "    </tr>\n",
              "  </tbody>\n",
              "</table>\n",
              "</div>\n",
              "      <button class=\"colab-df-convert\" onclick=\"convertToInteractive('df-f1731ea8-1f57-4e80-957d-9b4cb63695d1')\"\n",
              "              title=\"Convert this dataframe to an interactive table.\"\n",
              "              style=\"display:none;\">\n",
              "        \n",
              "  <svg xmlns=\"http://www.w3.org/2000/svg\" height=\"24px\"viewBox=\"0 0 24 24\"\n",
              "       width=\"24px\">\n",
              "    <path d=\"M0 0h24v24H0V0z\" fill=\"none\"/>\n",
              "    <path d=\"M18.56 5.44l.94 2.06.94-2.06 2.06-.94-2.06-.94-.94-2.06-.94 2.06-2.06.94zm-11 1L8.5 8.5l.94-2.06 2.06-.94-2.06-.94L8.5 2.5l-.94 2.06-2.06.94zm10 10l.94 2.06.94-2.06 2.06-.94-2.06-.94-.94-2.06-.94 2.06-2.06.94z\"/><path d=\"M17.41 7.96l-1.37-1.37c-.4-.4-.92-.59-1.43-.59-.52 0-1.04.2-1.43.59L10.3 9.45l-7.72 7.72c-.78.78-.78 2.05 0 2.83L4 21.41c.39.39.9.59 1.41.59.51 0 1.02-.2 1.41-.59l7.78-7.78 2.81-2.81c.8-.78.8-2.07 0-2.86zM5.41 20L4 18.59l7.72-7.72 1.47 1.35L5.41 20z\"/>\n",
              "  </svg>\n",
              "      </button>\n",
              "      \n",
              "  <style>\n",
              "    .colab-df-container {\n",
              "      display:flex;\n",
              "      flex-wrap:wrap;\n",
              "      gap: 12px;\n",
              "    }\n",
              "\n",
              "    .colab-df-convert {\n",
              "      background-color: #E8F0FE;\n",
              "      border: none;\n",
              "      border-radius: 50%;\n",
              "      cursor: pointer;\n",
              "      display: none;\n",
              "      fill: #1967D2;\n",
              "      height: 32px;\n",
              "      padding: 0 0 0 0;\n",
              "      width: 32px;\n",
              "    }\n",
              "\n",
              "    .colab-df-convert:hover {\n",
              "      background-color: #E2EBFA;\n",
              "      box-shadow: 0px 1px 2px rgba(60, 64, 67, 0.3), 0px 1px 3px 1px rgba(60, 64, 67, 0.15);\n",
              "      fill: #174EA6;\n",
              "    }\n",
              "\n",
              "    [theme=dark] .colab-df-convert {\n",
              "      background-color: #3B4455;\n",
              "      fill: #D2E3FC;\n",
              "    }\n",
              "\n",
              "    [theme=dark] .colab-df-convert:hover {\n",
              "      background-color: #434B5C;\n",
              "      box-shadow: 0px 1px 3px 1px rgba(0, 0, 0, 0.15);\n",
              "      filter: drop-shadow(0px 1px 2px rgba(0, 0, 0, 0.3));\n",
              "      fill: #FFFFFF;\n",
              "    }\n",
              "  </style>\n",
              "\n",
              "      <script>\n",
              "        const buttonEl =\n",
              "          document.querySelector('#df-f1731ea8-1f57-4e80-957d-9b4cb63695d1 button.colab-df-convert');\n",
              "        buttonEl.style.display =\n",
              "          google.colab.kernel.accessAllowed ? 'block' : 'none';\n",
              "\n",
              "        async function convertToInteractive(key) {\n",
              "          const element = document.querySelector('#df-f1731ea8-1f57-4e80-957d-9b4cb63695d1');\n",
              "          const dataTable =\n",
              "            await google.colab.kernel.invokeFunction('convertToInteractive',\n",
              "                                                     [key], {});\n",
              "          if (!dataTable) return;\n",
              "\n",
              "          const docLinkHtml = 'Like what you see? Visit the ' +\n",
              "            '<a target=\"_blank\" href=https://colab.research.google.com/notebooks/data_table.ipynb>data table notebook</a>'\n",
              "            + ' to learn more about interactive tables.';\n",
              "          element.innerHTML = '';\n",
              "          dataTable['output_type'] = 'display_data';\n",
              "          await google.colab.output.renderOutput(dataTable, element);\n",
              "          const docLink = document.createElement('div');\n",
              "          docLink.innerHTML = docLinkHtml;\n",
              "          element.appendChild(docLink);\n",
              "        }\n",
              "      </script>\n",
              "    </div>\n",
              "  </div>\n",
              "  "
            ],
            "text/plain": [
              "   rank     values\n",
              "0     1  45.037554\n",
              "1     5  51.636266\n",
              "2    10  54.613734\n",
              "3    20  57.644850"
            ]
          },
          "execution_count": 5,
          "metadata": {},
          "output_type": "execute_result"
        }
      ],
      "source": [
        "# load model\n",
        "model = load_model(resume)\n",
        "tinyface_test = tinyface_helper.TinyFaceTest(tinyface_root=os.path.join(TINYFACE_DATA_DIR, \"SR\"))\n",
        "# tinyface_test = tinyface_helper.TinyFaceTest(tinyface_root=TINYFACE_DATA_DIR)\n",
        "\n",
        "probe_loader = prepare_dataloader(tinyface_test.probe_paths, 32, num_workers=5)\n",
        "gallery_loader = prepare_dataloader(tinyface_test.gallery_paths, 32, num_workers=5)\n",
        "\n",
        "print('probe images: {}'.format(len(tinyface_test.probe_paths)))\n",
        "print('gallery images: {}'.format(len(tinyface_test.gallery_paths)))\n",
        "\n",
        "probe_features = infer(model, probe_loader, use_flip_test=True)\n",
        "gallery_features = infer(model, gallery_loader, use_flip_test=True)\n",
        "calc_accuracy(tinyface_test, probe_features, gallery_features, save_dir, do_norm=True)\n",
        "print(\"\\n\")\n",
        "df_result = pd.read_csv('result/tinyface_result.csv')\n",
        "df_result"
      ]
    },
    {
      "cell_type": "markdown",
      "metadata": {
        "id": "p-OPoXO6Oo9N"
      },
      "source": [
        "### Experimental"
      ]
    },
    {
      "cell_type": "code",
      "execution_count": null,
      "metadata": {
        "colab": {
          "base_uri": "https://localhost:8080/"
        },
        "id": "jMQfBJ1UcU32",
        "outputId": "80ec5143-82fd-4879-d81d-20247722968b"
      },
      "outputs": [
        {
          "name": "stdout",
          "output_type": "stream",
          "text": [
            "total images : 169403\n"
          ]
        },
        {
          "name": "stderr",
          "output_type": "stream",
          "text": [
            "100%|██████████| 10588/10588 [14:27<00:00, 12.20it/s]\n"
          ]
        },
        {
          "name": "stdout",
          "output_type": "stream",
          "text": [
            "mate probes: 3728, non mate probes: 0\n"
          ]
        }
      ],
      "source": [
        "# Ga bisa di run, makan RAM gede bngt, bakal auto crash\n",
        "model = load_model(resume)\n",
        "tinyface_test = tinyface_helper.TinyFaceTest(tinyface_root=os.path.join(TINYFACE_DATA_DIR, \"SR\"))\n",
        "print('total images : {}'.format(len(tinyface_test.image_paths)))\n",
        "\n",
        "dataloader = prepare_dataloader(tinyface_test.image_paths, 16, num_workers=2)\n",
        "features = infer(model, dataloader, use_flip_test=True)\n",
        "results = tinyface_test.test_identification(features, ranks=[1,5,20])\n",
        "print(results)\n",
        "pd.DataFrame({'rank':[1,5,20], 'values':results}).to_csv(os.path.join(save_dir, 'result.csv'))"
      ]
    },
    {
      "cell_type": "code",
      "execution_count": null,
      "metadata": {
        "id": "so4XouhXuvEJ"
      },
      "outputs": [],
      "source": []
    }
  ],
  "metadata": {
    "accelerator": "GPU",
    "colab": {
      "collapsed_sections": [
        "ZcqbIXSZX6x-",
        "-t6JqFMsZIZz",
        "8Y7QvTk1ZPkH",
        "saOAN-kSgb2g",
        "m0mHUO_Tbeja",
        "OTO0V_uXrtYn",
        "LYUiuujxf96X",
        "BkK1KeFdUtLX",
        "XN4fYEKbKknX",
        "byBJfIXTM2xQ",
        "p-OPoXO6Oo9N"
      ],
      "gpuType": "T4",
      "machine_shape": "hm",
      "provenance": []
    },
    "kernelspec": {
      "display_name": "Python 3",
      "name": "python3"
    },
    "language_info": {
      "name": "python"
    }
  },
  "nbformat": 4,
  "nbformat_minor": 0
}
